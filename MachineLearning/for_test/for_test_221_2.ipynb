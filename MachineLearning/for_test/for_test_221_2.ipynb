{
 "cells": [
  {
   "cell_type": "markdown",
   "metadata": {},
   "source": [
    "## 多項式回帰"
   ]
  },
  {
   "cell_type": "code",
   "execution_count": 12,
   "metadata": {
    "collapsed": true
   },
   "outputs": [],
   "source": [
    "# 必要なライブラリのインポート\n",
    "import numpy as np\n",
    "import pandas as pd\n",
    "import matplotlib.pyplot as plt\n",
    "% matplotlib inline"
   ]
  },
  {
   "cell_type": "code",
   "execution_count": 13,
   "metadata": {
    "collapsed": false
   },
   "outputs": [
    {
     "data": {
      "text/html": [
       "<div>\n",
       "<style>\n",
       "    .dataframe thead tr:only-child th {\n",
       "        text-align: right;\n",
       "    }\n",
       "\n",
       "    .dataframe thead th {\n",
       "        text-align: left;\n",
       "    }\n",
       "\n",
       "    .dataframe tbody tr th {\n",
       "        vertical-align: top;\n",
       "    }\n",
       "</style>\n",
       "<table border=\"1\" class=\"dataframe\">\n",
       "  <thead>\n",
       "    <tr style=\"text-align: right;\">\n",
       "      <th></th>\n",
       "      <th>CRIM</th>\n",
       "      <th>ZN</th>\n",
       "      <th>INDUS</th>\n",
       "      <th>CHAS</th>\n",
       "      <th>NOX</th>\n",
       "      <th>RM</th>\n",
       "      <th>AGE</th>\n",
       "      <th>DIS</th>\n",
       "      <th>RAD</th>\n",
       "      <th>TAX</th>\n",
       "      <th>PTRATIO</th>\n",
       "      <th>B</th>\n",
       "      <th>LSTAT</th>\n",
       "      <th>MEDV</th>\n",
       "    </tr>\n",
       "  </thead>\n",
       "  <tbody>\n",
       "    <tr>\n",
       "      <th>0</th>\n",
       "      <td>0.00632</td>\n",
       "      <td>18.0</td>\n",
       "      <td>2.31</td>\n",
       "      <td>0.0</td>\n",
       "      <td>0.538</td>\n",
       "      <td>6.575</td>\n",
       "      <td>65.2</td>\n",
       "      <td>4.0900</td>\n",
       "      <td>1.0</td>\n",
       "      <td>296.0</td>\n",
       "      <td>15.3</td>\n",
       "      <td>396.90</td>\n",
       "      <td>4.98</td>\n",
       "      <td>24.0</td>\n",
       "    </tr>\n",
       "    <tr>\n",
       "      <th>1</th>\n",
       "      <td>0.02731</td>\n",
       "      <td>0.0</td>\n",
       "      <td>7.07</td>\n",
       "      <td>0.0</td>\n",
       "      <td>0.469</td>\n",
       "      <td>6.421</td>\n",
       "      <td>78.9</td>\n",
       "      <td>4.9671</td>\n",
       "      <td>2.0</td>\n",
       "      <td>242.0</td>\n",
       "      <td>17.8</td>\n",
       "      <td>396.90</td>\n",
       "      <td>9.14</td>\n",
       "      <td>21.6</td>\n",
       "    </tr>\n",
       "    <tr>\n",
       "      <th>2</th>\n",
       "      <td>0.02729</td>\n",
       "      <td>0.0</td>\n",
       "      <td>7.07</td>\n",
       "      <td>0.0</td>\n",
       "      <td>0.469</td>\n",
       "      <td>7.185</td>\n",
       "      <td>61.1</td>\n",
       "      <td>4.9671</td>\n",
       "      <td>2.0</td>\n",
       "      <td>242.0</td>\n",
       "      <td>17.8</td>\n",
       "      <td>392.83</td>\n",
       "      <td>4.03</td>\n",
       "      <td>34.7</td>\n",
       "    </tr>\n",
       "    <tr>\n",
       "      <th>3</th>\n",
       "      <td>0.03237</td>\n",
       "      <td>0.0</td>\n",
       "      <td>2.18</td>\n",
       "      <td>0.0</td>\n",
       "      <td>0.458</td>\n",
       "      <td>6.998</td>\n",
       "      <td>45.8</td>\n",
       "      <td>6.0622</td>\n",
       "      <td>3.0</td>\n",
       "      <td>222.0</td>\n",
       "      <td>18.7</td>\n",
       "      <td>394.63</td>\n",
       "      <td>2.94</td>\n",
       "      <td>33.4</td>\n",
       "    </tr>\n",
       "    <tr>\n",
       "      <th>4</th>\n",
       "      <td>0.06905</td>\n",
       "      <td>0.0</td>\n",
       "      <td>2.18</td>\n",
       "      <td>0.0</td>\n",
       "      <td>0.458</td>\n",
       "      <td>7.147</td>\n",
       "      <td>54.2</td>\n",
       "      <td>6.0622</td>\n",
       "      <td>3.0</td>\n",
       "      <td>222.0</td>\n",
       "      <td>18.7</td>\n",
       "      <td>396.90</td>\n",
       "      <td>5.33</td>\n",
       "      <td>36.2</td>\n",
       "    </tr>\n",
       "  </tbody>\n",
       "</table>\n",
       "</div>"
      ],
      "text/plain": [
       "      CRIM    ZN  INDUS  CHAS    NOX     RM   AGE     DIS  RAD    TAX  \\\n",
       "0  0.00632  18.0   2.31   0.0  0.538  6.575  65.2  4.0900  1.0  296.0   \n",
       "1  0.02731   0.0   7.07   0.0  0.469  6.421  78.9  4.9671  2.0  242.0   \n",
       "2  0.02729   0.0   7.07   0.0  0.469  7.185  61.1  4.9671  2.0  242.0   \n",
       "3  0.03237   0.0   2.18   0.0  0.458  6.998  45.8  6.0622  3.0  222.0   \n",
       "4  0.06905   0.0   2.18   0.0  0.458  7.147  54.2  6.0622  3.0  222.0   \n",
       "\n",
       "   PTRATIO       B  LSTAT  MEDV  \n",
       "0     15.3  396.90   4.98  24.0  \n",
       "1     17.8  396.90   9.14  21.6  \n",
       "2     17.8  392.83   4.03  34.7  \n",
       "3     18.7  394.63   2.94  33.4  \n",
       "4     18.7  396.90   5.33  36.2  "
      ]
     },
     "execution_count": 13,
     "metadata": {},
     "output_type": "execute_result"
    }
   ],
   "source": [
    "# データセットを読み込み\n",
    "from sklearn.datasets import load_boston # bostonデータを格納したクラス\n",
    "boston = load_boston()                   # インスタンスを生成\n",
    "# DataFrameを生成\n",
    "df_data = pd.DataFrame(boston.data, columns=boston.feature_names)\n",
    "df_target = pd.DataFrame(boston.target, columns=['MEDV'])\n",
    "df = pd.concat([df_data, df_target], axis=1)\n",
    "df.head()"
   ]
  },
  {
   "cell_type": "code",
   "execution_count": 14,
   "metadata": {
    "collapsed": true
   },
   "outputs": [],
   "source": [
    "# 特徴量を抽出\n",
    "lstat = df.loc[:, ['LSTAT']].values\n",
    "rm = df.loc[:, ['RM']].values\n",
    "y = df.loc[:, ['MEDV']].values"
   ]
  },
  {
   "cell_type": "code",
   "execution_count": 15,
   "metadata": {
    "collapsed": false
   },
   "outputs": [
    {
     "data": {
      "text/plain": [
       "LinearRegression(copy_X=True, fit_intercept=True, n_jobs=1, normalize=False)"
      ]
     },
     "execution_count": 15,
     "metadata": {},
     "output_type": "execute_result"
    }
   ],
   "source": [
    "# ホールド・アウト法によるデータの分割\n",
    "# random_stateを0に固定してあるので､毎回同じサンプルに分割\n",
    "from sklearn.model_selection import train_test_split\n",
    "lstat_train, lstat_test, y_train, y_test = train_test_split(lstat, y, test_size = 0.3, random_state = 0)\n",
    "# 線形回帰のモデルを学習させる\n",
    "from sklearn.linear_model import LinearRegression\n",
    "model_lin = LinearRegression()\n",
    "model_lin.fit(lstat_train, y_train)"
   ]
  },
  {
   "cell_type": "code",
   "execution_count": 16,
   "metadata": {
    "collapsed": false
   },
   "outputs": [
    {
     "data": {
      "text/plain": [
       "LinearRegression(copy_X=True, fit_intercept=True, n_jobs=1, normalize=False)"
      ]
     },
     "execution_count": 16,
     "metadata": {},
     "output_type": "execute_result"
    }
   ],
   "source": [
    "# ホールド・アウト法によるデータの分割\n",
    "# random_stateを0に固定してあるので､毎回同じサンプルに分割\n",
    "from sklearn.model_selection import train_test_split\n",
    "lstat_train, lstat_test, y_train, y_test = train_test_split(lstat, y, test_size = 0.3, random_state = 0)\n",
    "# 線形回帰のモデルを学習させる\n",
    "from sklearn.linear_model import LinearRegression\n",
    "model_lin = LinearRegression()\n",
    "model_lin.fit(lstat_train, y_train)"
   ]
  },
  {
   "cell_type": "markdown",
   "metadata": {},
   "source": [
    "### 多項式回帰用に変数変換をする PolynomialFeatures"
   ]
  },
  {
   "cell_type": "code",
   "execution_count": 17,
   "metadata": {
    "collapsed": true
   },
   "outputs": [],
   "source": [
    "from sklearn.preprocessing import PolynomialFeatures\n",
    "#まずは基底の形状を定義\n",
    "quad=PolynomialFeatures(degree=2)#default=2\n",
    "X_quad=quad.fit_transform(lstat)"
   ]
  },
  {
   "cell_type": "code",
   "execution_count": 18,
   "metadata": {
    "collapsed": false
   },
   "outputs": [
    {
     "data": {
      "text/plain": [
       "(506, 3)"
      ]
     },
     "execution_count": 18,
     "metadata": {},
     "output_type": "execute_result"
    }
   ],
   "source": [
    "X_quad.shape"
   ]
  },
  {
   "cell_type": "code",
   "execution_count": 21,
   "metadata": {
    "collapsed": true
   },
   "outputs": [],
   "source": [
    "X_quad_train,X_quad_test,y_quad_train,y_quad_test=train_test_split(X_quad,y,test_size=0.3,random_state=0)"
   ]
  },
  {
   "cell_type": "code",
   "execution_count": 22,
   "metadata": {
    "collapsed": false
   },
   "outputs": [
    {
     "data": {
      "text/plain": [
       "LinearRegression(copy_X=True, fit_intercept=True, n_jobs=1, normalize=False)"
      ]
     },
     "execution_count": 22,
     "metadata": {},
     "output_type": "execute_result"
    }
   ],
   "source": [
    "model_quad=LinearRegression()\n",
    "model_quad.fit(X_quad_train,y_train)"
   ]
  },
  {
   "cell_type": "code",
   "execution_count": 23,
   "metadata": {
    "collapsed": false
   },
   "outputs": [
    {
     "data": {
      "image/png": "[encoded data removed]",
      "text/plain": [
       "<matplotlib.figure.Figure at 0x1182c75c0>"
      ]
     },
     "metadata": {},
     "output_type": "display_data"
    }
   ],
   "source": [
    "# 散布図に近似直線､近似曲線を重ねてみる\n",
    "x = np.arange(0, 40, 1)[:, np.newaxis]  #列ベクトルにしないといけない　近似直線なのでxを網羅的に動かす。\n",
    "plt.scatter(lstat, y, color='lightgray', label='data')               # 散布図を表示\n",
    "plt.plot(x, model_lin.predict(x), color='red', label='linear')       # 回帰直線を表示\n",
    "x_quad = quad.fit_transform(x)                                       # プロットのためのxも2変数変換する\n",
    "plt.plot(x, model_quad.predict(x_quad), color='green', label='quad') # 回帰曲線を表示（2次関数）\n",
    "plt.xlabel('LSTAT')                                                  # x軸のラベルを表示\n",
    "plt.ylabel('MEDV')                                                   # y軸のラベルを表示\n",
    "plt.legend(loc = 'upper right')                                      # 凡例を表示\n",
    "plt.show()                                                           # 上記の内容でグラフを表示"
   ]
  },
  {
   "cell_type": "markdown",
   "metadata": {},
   "source": [
    "np.hstackによって多項式基底に別の特徴量を加える。"
   ]
  },
  {
   "cell_type": "code",
   "execution_count": 24,
   "metadata": {
    "collapsed": false
   },
   "outputs": [
    {
     "data": {
      "text/plain": [
       "LinearRegression(copy_X=True, fit_intercept=True, n_jobs=1, normalize=False)"
      ]
     },
     "execution_count": 24,
     "metadata": {},
     "output_type": "execute_result"
    }
   ],
   "source": [
    "# LSTAT（2次）にRMを加える\n",
    "X_quad = np.hstack((X_quad, rm))\n",
    "# ホールド・アウト法によるデータの分割\n",
    "X_quad_train, X_quad_test, _, _ = train_test_split(X_quad, y, test_size = 0.3, random_state = 0)\n",
    "# 線形回帰による学習\n",
    "model_quad_2 = LinearRegression()\n",
    "model_quad_2.fit(X_quad_train, y_train)"
   ]
  },
  {
   "cell_type": "markdown",
   "metadata": {},
   "source": [
    "### 変数が2つなので二次元にプロットはできないーー＞残差プロットなら可視化できる。"
   ]
  },
  {
   "cell_type": "code",
   "execution_count": 25,
   "metadata": {
    "collapsed": false
   },
   "outputs": [
    {
     "data": {
      "image/png": "[encoded data removed]",
      "text/plain": [
       "<matplotlib.figure.Figure at 0x118373320>"
      ]
     },
     "metadata": {},
     "output_type": "display_data"
    }
   ],
   "source": [
    "# 残差プロットを行う関数を定義\n",
    "def res_plot(y_train, y_train_pred, y_test, y_test_pred):\n",
    "    # train, testごとに残差を算出\n",
    "    res_train = y_train_pred - y_train\n",
    "    res_test  = y_test_pred - y_test\n",
    "    \n",
    "    # train, testごとに(予測値, 残差)をプロット\n",
    "    plt.figure(figsize=(8, 8))\n",
    "    plt.scatter(y_train_pred, res_train, color='blue', marker='o', label='train', alpha=0.5)\n",
    "    plt.scatter(y_test_pred, res_test, color='green', marker='s', label='test', alpha=0.5)\n",
    "    \n",
    "    plt.xlabel('Predicted Values')                  # x軸のラベルを表示\n",
    "    plt.ylabel('Residuals')                         # y軸のラベルを表示\n",
    "    plt.legend(loc='upper left')                    # 凡例を左上に表示\n",
    "    plt.hlines(y=0, xmin=-10, xmax=50, color='red') # 残差0の線を表示\n",
    "    plt.xlim([-10, 50])                             # 表示する横軸の範囲を指定\n",
    "    plt.show()\n",
    "# 残差プロットを出力\n",
    "# 線形回帰の場合\n",
    "res_plot(y_quad_train, model_quad_2.predict(X_quad_train), y_quad_test, model_quad_2.predict(X_quad_test))"
   ]
  },
  {
   "cell_type": "markdown",
   "metadata": {},
   "source": [
    "正則化を考える。"
   ]
  },
  {
   "cell_type": "code",
   "execution_count": 26,
   "metadata": {
    "collapsed": true
   },
   "outputs": [],
   "source": [
    "# 適当なデータセットを生成\n",
    "# 中のコードは気にしなくていいので､今回はグラフだけ眺めてください\n",
    "\n",
    "# 適当な三次関数を出力する関数を定義\n",
    "def cubic(X):\n",
    "    y = 0.0001 * (X**3 + X**2 + X + 1)\n",
    "    return y\n",
    "\n",
    "# サンプルデータの生成\n",
    "np.random.seed(3)                         # 乱数生成器の状態を指定\n",
    "X = np.random.normal(0, 10, 30)           # 正規分布に従って30個のデータ点を生成\n",
    "y = cubic(X)                              # 対応するyを三次関数で指定\n",
    "y += np.random.normal(0, 0.25, len(y))    # 正規分布に従うノイズを加える\n",
    "X = X.reshape(-1, 1)                      # sklearnで扱えるように､一列のベクトルに変換\n",
    "\n",
    "# 三次関数をプロットする用のデータを生成\n",
    "X_plot = np.arange(-25, 25, 0.1)          # -25~+25の範囲に､0.1刻みでデータ点を取る\n",
    "y_plot = cubic(X_plot)                    # 対応するyを三次関数で指定\n",
    "X_plot = X_plot.reshape(-1, 1)            # sklearnで扱えるように､一行のベクトルに変換"
   ]
  },
  {
   "cell_type": "code",
   "execution_count": 27,
   "metadata": {
    "collapsed": false
   },
   "outputs": [
    {
     "data": {
      "image/png": "[encoded data removed]",
      "text/plain": [
       "<matplotlib.figure.Figure at 0x1183b83c8>"
      ]
     },
     "metadata": {},
     "output_type": "display_data"
    }
   ],
   "source": [
    "# グラフを描画\n",
    "plt.scatter(X, y)                         # データ点をプロット\n",
    "plt.plot(X_plot, y_plot, color='gray')    # もととなる三次関数を描画\n",
    "plt.ylim([-1.6, 1.6])                     # 縦の表示範囲を指定\n",
    "plt.show()                                # グラフを表"
   ]
  },
  {
   "cell_type": "code",
   "execution_count": 29,
   "metadata": {
    "collapsed": true
   },
   "outputs": [],
   "source": [
    "from sklearn.linear_model import LinearRegression\n",
    "lr=LinearRegression()\n",
    "\n",
    "from sklearn.preprocessing import PolynomialFeatures\n",
    "pol=PolynomialFeatures(degree=7)\n",
    "X_pol=pol.fit_transform(X)"
   ]
  },
  {
   "cell_type": "code",
   "execution_count": 30,
   "metadata": {
    "collapsed": true
   },
   "outputs": [],
   "source": [
    "lr.fit(X_pol,y)\n",
    "X_plot_pol = pol.fit_transform(X_plot)               # プロット用のデータも同様に変換\n",
    "y_plot_pol = lr.predict(X_plot_pol)                  # プロット用のデータのyを予測"
   ]
  },
  {
   "cell_type": "code",
   "execution_count": 32,
   "metadata": {
    "collapsed": false
   },
   "outputs": [
    {
     "data": {
      "text/plain": [
       "Ridge(alpha=1000, copy_X=True, fit_intercept=True, max_iter=None,\n",
       "   normalize=False, random_state=None, solver='auto', tol=0.001)"
      ]
     },
     "execution_count": 32,
     "metadata": {},
     "output_type": "execute_result"
    }
   ],
   "source": [
    "from sklearn.linear_model import Ridge\n",
    "ridge_model=Ridge(alpha=1000) #alpha=L2ノルムの罰則の強さ\n",
    "ridge_model.fit(X_pol,y) #7次に変換した特徴量でfit"
   ]
  },
  {
   "cell_type": "code",
   "execution_count": 36,
   "metadata": {
    "collapsed": false
   },
   "outputs": [
    {
     "data": {
      "image/png": "[encoded data removed]",
      "text/plain": [
       "<matplotlib.figure.Figure at 0x1193349b0>"
      ]
     },
     "metadata": {},
     "output_type": "display_data"
    }
   ],
   "source": [
    "# グラフを描画\n",
    "plt.scatter(X, y)                                              # データ点をプロット\n",
    "plt.plot(X_plot, y_plot, color='gray')                         # もととなる三次関数を描画\n",
    "plt.plot(X_plot, y_plot_pol, color='green')                    # 通常の多項式回帰のモデルを描画\n",
    "plt.plot(X_plot, ridge_model.predict(X_plot_pol), color='red') # Ridge回帰によるモデルを描画\n",
    "\n",
    "plt.ylim([-1.6, 1.6])                                          # 縦の表示範囲を指定\n",
    "plt.show()                                                     # グラフを描画"
   ]
  },
  {
   "cell_type": "code",
   "execution_count": null,
   "metadata": {
    "collapsed": true
   },
   "outputs": [],
   "source": []
  }
 ],
 "metadata": {
  "kernelspec": {
   "display_name": "py35",
   "language": "python",
   "name": "py35"
  },
  "language_info": {
   "codemirror_mode": {
    "name": "ipython",
    "version": 3
   },
   "file_extension": ".py",
   "mimetype": "text/x-python",
   "name": "python",
   "nbconvert_exporter": "python",
   "pygments_lexer": "ipython3",
   "version": "3.5.4"
  }
 },
 "nbformat": 4,
 "nbformat_minor": 0
}
