{
 "cells": [
  {
   "cell_type": "markdown",
   "metadata": {},
   "source": [
    "クラスタリングの前にPCAを使うと、**各主成分に相関がないため\u001c",
    "（直交しているので）ユークリッド距離で距離を定義できる**<br>\n",
    "PCAをしていない場合、軸に相関があるのでマハラノビス距離を利用する"
   ]
  },
  {
   "cell_type": "markdown",
   "metadata": {},
   "source": [
    "主要な潜在変数(解釈は主観的に行う必要がある)に絞れるので説明がしやすい。"
   ]
  },
  {
   "cell_type": "markdown",
   "metadata": {},
   "source": [
    "### クラスタリングの終了条件\n",
    "1. サンプルの所属するクラスが変わらなくなる。\n",
    "2. SSEという 目的関数が許容範囲内に収まる。<br />\n",
    "    SSEを考えることでサンプルのクラス遷移が収束しなくても学習を打ち切ることができる。<br />\n",
    "    SSEを微分したりしてクラスを求めるわけではない。単なる指標。"
   ]
  },
  {
   "cell_type": "markdown",
   "metadata": {},
   "source": [
    "### K-meansの弱点\n",
    "- 超球状でないクラスタ、サンプル数の異なるクラスタの検出が難しい<br>\n",
    "    SSEが二乗和なので遠いサンプルは採用しづらい→超球になりやすい\n",
    "- クラスごとのSSEが等しく重みづけされている<br>\n",
    "    サンプル数が多い＝クラス内誤差が大きい＝サンプル数を減らそうとする＝サンプル数がだいたい同じに均される。<br>\n",
    "    他のクラスがサンプル数の多いクラスタにめり込む\n"
   ]
  },
  {
   "cell_type": "markdown",
   "metadata": {},
   "source": [
    "- クラスタの数を何個にすればいいか不明。特に高次元の場合は可視化できない。教師なしなのでクラス何個にするかは不明。\n",
    "    - エルボー法=kの値を変えながらSSEを可視化。SSEが**ガクッと**下がるkにする。<br>\n",
    "    SSEがkを増やせば小さくなるのは当たり前。セントロイドが増えるので"
   ]
  },
  {
   "cell_type": "markdown",
   "metadata": {},
   "source": [
    "- シルエット分析による対策<br>\n",
    "**凝集度は小さい**方がいい、**乖離度は大きい**方がいいので**シルエット係数は大きい**ほど良い<br>\n",
    "**シルエット係数がマイナス**になるようなときは､クラスタリングが上手く言っていないと気づけます｡<br>\n",
    "なぜなら､自分のクラスタ内のサンプルよりも､隣のクラスタ内のサンプルの方が近いということなので､<br>\n",
    "**周囲がごちゃごちゃしている状況の中で無理なクラスタリングが行われてしまっている**ことを示しているからです｡<br>\n",
    "シルエット係数は各サンプルに対して算出されるのでデータ数分ある。<br>\n",
    "見るべきはクラスタに属するサンプル数とシルエット係数がある程度大きいか。"
   ]
  },
  {
   "cell_type": "markdown",
   "metadata": {},
   "source": [
    " - 初期値依存性によってうまくいかない場合がある<br>\n",
    "     - n_initの値を変える<br>\n",
    "     10などを設定すると初期値の設定を10パターンで行って最もSSEの小さくなったものを採用する。<br>\n",
    "     どれかでうまくいけば良い。<br>\n",
    "     - k-means++<br>\n",
    "     初期値が近いとうまくいかないという知見から、離れた位置に初期値を作ろうという手法"
   ]
  },
  {
   "cell_type": "code",
   "execution_count": 1,
   "metadata": {
    "collapsed": true
   },
   "outputs": [],
   "source": [
    "from sklearn.datasets import load_iris\n",
    "iris=load_iris()"
   ]
  },
  {
   "cell_type": "code",
   "execution_count": 2,
   "metadata": {
    "collapsed": true
   },
   "outputs": [],
   "source": [
    "X=iris.data\n",
    "y=iris.target"
   ]
  },
  {
   "cell_type": "code",
   "execution_count": 3,
   "metadata": {
    "collapsed": true
   },
   "outputs": [],
   "source": [
    "#pcaのためにデータの標準化\n",
    "from sklearn.preprocessing import StandardScaler\n",
    "scaler=StandardScaler()\n",
    "scaler.fit(X)\n",
    "X_std=scaler.fit_transform(X)"
   ]
  },
  {
   "cell_type": "code",
   "execution_count": 5,
   "metadata": {
    "collapsed": false
   },
   "outputs": [],
   "source": [
    "#pcaの実行\n",
    "from sklearn.decomposition import PCA\n",
    "pca=PCA(n_components=4)\n",
    "X_pca=pca.fit_transform(X_std)"
   ]
  },
  {
   "cell_type": "code",
   "execution_count": 6,
   "metadata": {
    "collapsed": false
   },
   "outputs": [
    {
     "data": {
      "text/plain": [
       "array([[-2.26454173,  0.5057039 , -0.12194335, -0.02307332],\n",
       "       [-2.0864255 , -0.65540473, -0.22725083, -0.10320824],\n",
       "       [-2.36795045, -0.31847731,  0.05147962, -0.02782523],\n",
       "       [-2.30419716, -0.57536771,  0.09886044,  0.06631146],\n",
       "       [-2.38877749,  0.6747674 ,  0.02142785,  0.03739729],\n",
       "       [-2.07053681,  1.51854856,  0.03068426, -0.00439877],\n",
       "       [-2.44571134,  0.07456268,  0.34219764,  0.03809657],\n",
       "       [-2.23384186,  0.24761393, -0.08257446,  0.02550516],\n",
       "       [-2.34195768, -1.09514636,  0.1535624 ,  0.02679383],\n",
       "       [-2.18867576, -0.44862905, -0.24655952,  0.0399073 ]])"
      ]
     },
     "execution_count": 6,
     "metadata": {},
     "output_type": "execute_result"
    }
   ],
   "source": [
    "X_pca[:10]"
   ]
  },
  {
   "cell_type": "code",
   "execution_count": 10,
   "metadata": {
    "collapsed": false
   },
   "outputs": [],
   "source": [
    "# k-means法を実行\n",
    "from sklearn.cluster import KMeans\n",
    "km = KMeans(n_clusters=3,   # クラスタの個数を指定\n",
    "            init='random',  # セントロイドの初期値の決め方を決定\n",
    "            n_init=10,      # 異なるセントロイドの初期値を用いての実行回数\n",
    "            max_iter=300,   # ひとつのセントロイドを用いたときの最大イテレーション回数\n",
    "            tol=1e-04,      # 収束と判定するための相対的な許容誤差\n",
    "            random_state=0, # セントロイドの初期化に用いる乱数生成器の状態\n",
    "           )"
   ]
  },
  {
   "cell_type": "code",
   "execution_count": 11,
   "metadata": {
    "collapsed": true
   },
   "outputs": [],
   "source": [
    "# 第二主成分までを使ってクラスタリング\n",
    "y_km = km.fit_predict(X_pca[:, 0:2])"
   ]
  },
  {
   "cell_type": "code",
   "execution_count": 14,
   "metadata": {
    "collapsed": true
   },
   "outputs": [],
   "source": [
    "# クラスタリングの結果を出力\n",
    "import matplotlib.pyplot as plt\n",
    "% matplotlib inline\n",
    "\n",
    "# クラスタリングの結果をプロットする関数\n",
    "# (クラスタの数, 学習器, 学習データ)\n",
    "def kmeans_plot(n_clusters, km, X):\n",
    "    # クラスタの予測値を算出\n",
    "    y_km = km.fit_predict(X)\n",
    "    \n",
    "    # クラスタごとに散布図をプロット\n",
    "    # 5クラスまでプロットできる\n",
    "    for i, color, marker in zip(range(n_clusters), 'rgbcm', '*x+^'):\n",
    "        plt.scatter(X[y_km==i, 0],            # 横軸の値\n",
    "                    X[y_km==i, 1],            # 縦軸の値\n",
    "                    color=color,              # プロットの色\n",
    "                    marker=marker,            # プロットの形\n",
    "                    label='cluster ' + str(i) # ラベル\n",
    "                   )\n",
    "    \n",
    "    # クラスタの中心をプロット\n",
    "    plt.scatter(km.cluster_centers_[:, 0],    # 横軸の値\n",
    "                km.cluster_centers_[:, 1],    # 縦軸の値\n",
    "                color='y',                    # プロットの色\n",
    "                marker='*',                   # プロットの形\n",
    "                label='centroids',            # ラベル\n",
    "                s=300,                        # プロットのサイズを大きくして見やすくする\n",
    "               )\n",
    "    \n",
    "    plt.legend()\n",
    "    plt.grid()\n",
    "    plt.show()"
   ]
  },
  {
   "cell_type": "code",
   "execution_count": 15,
   "metadata": {
    "collapsed": false
   },
   "outputs": [
    {
     "data": {
      "image/png": "[encoded data removed]",
      "text/plain": [
       "<matplotlib.figure.Figure at 0x113958828>"
      ]
     },
     "metadata": {},
     "output_type": "display_data"
    }
   ],
   "source": [
    "# プロットを実行\n",
    "kmeans_plot(3, km, X_pca[:, 0:2])"
   ]
  },
  {
   "cell_type": "markdown",
   "metadata": {},
   "source": [
    "教師ありのデータなので精度を出すことができる。\n",
    "本来は教師なしなので自分で解釈するしかない。"
   ]
  },
  {
   "cell_type": "code",
   "execution_count": 16,
   "metadata": {
    "collapsed": false
   },
   "outputs": [
    {
     "data": {
      "text/plain": [
       "array([0, 0, 0, 0, 0, 0, 0, 0, 0, 0, 0, 0, 0, 0, 0, 0, 0, 0, 0, 0, 0, 0, 0,\n",
       "       0, 0, 0, 0, 0, 0, 0, 0, 0, 0, 0, 0, 0, 0, 0, 0, 0, 0, 0, 0, 0, 0, 0,\n",
       "       0, 0, 0, 0, 1, 1, 1, 2, 2, 2, 1, 2, 2, 2, 2, 2, 2, 2, 2, 1, 2, 2, 2,\n",
       "       2, 1, 2, 2, 2, 2, 1, 1, 1, 2, 2, 2, 2, 2, 2, 2, 1, 1, 2, 2, 2, 2, 2,\n",
       "       2, 2, 2, 2, 2, 2, 2, 2, 1, 2, 1, 1, 1, 1, 2, 1, 1, 1, 1, 1, 1, 2, 2,\n",
       "       1, 1, 1, 1, 2, 1, 2, 1, 2, 1, 1, 2, 1, 1, 1, 1, 1, 1, 2, 2, 1, 1, 1,\n",
       "       2, 1, 1, 1, 2, 1, 1, 1, 2, 1, 1, 2], dtype=int32)"
      ]
     },
     "execution_count": 16,
     "metadata": {},
     "output_type": "execute_result"
    }
   ],
   "source": [
    "# y_kmを確認\n",
    "y_km"
   ]
  },
  {
   "cell_type": "code",
   "execution_count": 18,
   "metadata": {
    "collapsed": false
   },
   "outputs": [
    {
     "data": {
      "text/plain": [
       "array([0, 0, 0, 0, 0, 0, 0, 0, 0, 0, 0, 0, 0, 0, 0, 0, 0, 0, 0, 0, 0, 0, 0,\n",
       "       0, 0, 0, 0, 0, 0, 0, 0, 0, 0, 0, 0, 0, 0, 0, 0, 0, 0, 0, 0, 0, 0, 0,\n",
       "       0, 0, 0, 0, 2, 2, 2, 2, 2, 2, 2, 2, 2, 2, 2, 2, 2, 2, 2, 2, 2, 2, 2,\n",
       "       2, 2, 2, 2, 2, 2, 2, 2, 2, 2, 2, 2, 2, 2, 2, 2, 2, 2, 2, 2, 2, 2, 2,\n",
       "       2, 2, 2, 2, 2, 2, 2, 2, 1, 1, 1, 1, 1, 1, 1, 1, 1, 1, 1, 1, 1, 1, 1,\n",
       "       1, 1, 1, 1, 1, 1, 1, 1, 1, 1, 1, 1, 1, 1, 1, 1, 1, 1, 1, 1, 1, 1, 1,\n",
       "       1, 1, 1, 1, 1, 1, 1, 1, 1, 1, 1, 1])"
      ]
     },
     "execution_count": 18,
     "metadata": {},
     "output_type": "execute_result"
    }
   ],
   "source": [
    "# 正解ラベルを作る\n",
    "# プロットを見ると､このときはversicolorとversinicaのlabelが逆になっている\n",
    "# 両者のラベルを入れ替えて､正解ラベルをつくる\n",
    "import numpy as np\n",
    "y_correct = np.hstack((y[0:50], y[100:150]))\n",
    "y_correct = np.hstack((y_correct, y[50:100]))\n",
    "y_correct"
   ]
  },
  {
   "cell_type": "code",
   "execution_count": 19,
   "metadata": {
    "collapsed": false,
    "scrolled": true
   },
   "outputs": [
    {
     "data": {
      "text/plain": [
       "0.8333333333333334"
      ]
     },
     "execution_count": 19,
     "metadata": {},
     "output_type": "execute_result"
    }
   ],
   "source": [
    "# 正答数を累積\n",
    "correct_ans = 0\n",
    "for i in range(len(y_correct)):\n",
    "    if y_km[i] == y_correct[i]:\n",
    "        correct_ans += 1\n",
    "\n",
    "# 正答率を出力\n",
    "correct_ans / len(y)"
   ]
  },
  {
   "cell_type": "markdown",
   "metadata": {},
   "source": [
    "## K-meansが不得意な場合"
   ]
  },
  {
   "cell_type": "code",
   "execution_count": 20,
   "metadata": {
    "collapsed": false
   },
   "outputs": [
    {
     "data": {
      "image/png": "[encoded data removed]",
      "text/plain": [
       "<matplotlib.figure.Figure at 0x113b860f0>"
      ]
     },
     "metadata": {},
     "output_type": "display_data"
    }
   ],
   "source": [
    "# 超級上でないクラスタを作成\n",
    "\n",
    "# サンプル数50の超球状のクラスタを生成\n",
    "from sklearn.datasets import make_blobs\n",
    "X_1, _ = make_blobs(n_samples=50,\n",
    "                 n_features=2,\n",
    "                 centers=1,\n",
    "                 cluster_std=0.4,\n",
    "                 center_box=[0, -2],\n",
    "                 random_state=6\n",
    "                )\n",
    "\n",
    "# サンプル数50の超球状のクラスタを生成\n",
    "X_2, _ = make_blobs(n_samples=50,\n",
    "                 n_features=2,\n",
    "                 centers=1,\n",
    "                 cluster_std=0.4,\n",
    "                 center_box=[0, 2],\n",
    "                 random_state=9\n",
    "                )\n",
    "\n",
    "# サンプル数50の細長いクラスタを生成\n",
    "from numpy.random import *\n",
    "seed(2)\n",
    "X_31 = np.array([i/15 for i in range(-50, 0)])\n",
    "X_32 = np.array([0.5*float(i) + 2 + float(randint(100))/100 for i in X_31])\n",
    "X_3 = np.hstack((X_31.reshape(-1, 1), X_32.reshape(-1, 1)))\n",
    "\n",
    "# 2種類のクラスタを色分けして表示\n",
    "plt.scatter(X_1[:, 0], X_1[:, 1], c='r', marker='s', s=50)\n",
    "plt.scatter(X_2[:, 0], X_2[:, 1], c='y', marker='o', s=50)\n",
    "plt.scatter(X_3[:, 0], X_3[:, 1], c='b', marker='x', s=50)\n",
    "plt.show()"
   ]
  },
  {
   "cell_type": "code",
   "execution_count": 21,
   "metadata": {
    "collapsed": false
   },
   "outputs": [
    {
     "data": {
      "image/png": "[encoded data removed]",
      "text/plain": [
       "<matplotlib.figure.Figure at 0x113b693c8>"
      ]
     },
     "metadata": {},
     "output_type": "display_data"
    }
   ],
   "source": [
    "# 生成したクラスタのデータを統合\n",
    "X = np.vstack((X_1, X_2))\n",
    "X = np.vstack((X, X_3))\n",
    "\n",
    "# k-means法を実行\n",
    "from sklearn.cluster import KMeans\n",
    "km = KMeans(n_clusters=3,   # クラスタの個数を指定\n",
    "            init='random',  # セントロイドの初期値の決め方を決定\n",
    "            n_init=10,      # 異なるセントロイドの初期値を用いた実行回数\n",
    "            max_iter=300,   # ひとつのセントロイドを用いたときの最大イテレーション回数\n",
    "            tol=1e-04,      # 収束と判定するための相対的な許容誤差\n",
    "            random_state=0, # セントロイドの初期化に用いる乱数生成器の状態\n",
    "           )\n",
    "\n",
    "# クラスラベルを予測\n",
    "y_km = km.fit_predict(X)\n",
    "\n",
    "# プロットを実行\n",
    "# 大きなクラスタのところに､小さなクラスタが食い込んでしまっているのがわかる\n",
    "kmeans_plot(3, km, X)"
   ]
  },
  {
   "cell_type": "code",
   "execution_count": 22,
   "metadata": {
    "collapsed": false
   },
   "outputs": [
    {
     "data": {
      "image/png": "[encoded data removed]",
      "text/plain": [
       "<matplotlib.figure.Figure at 0x113aa0080>"
      ]
     },
     "metadata": {},
     "output_type": "display_data"
    }
   ],
   "source": [
    "# サンプル数が大きく異なるクラスタを生成\n",
    "from sklearn.datasets import make_blobs\n",
    "\n",
    "# サンプル数25のクラスタを2つ生成\n",
    "X_1, _ = make_blobs(n_samples=50,\n",
    "                 n_features=2,\n",
    "                 centers=2,\n",
    "                 cluster_std=0.5,\n",
    "                 random_state=3\n",
    "                )\n",
    "\n",
    "# サンプル数300のクラスタを1つ生成\n",
    "X_2, _ = make_blobs(n_samples=300,\n",
    "                 n_features=2,\n",
    "                 centers=1,\n",
    "                 cluster_std=1.0,\n",
    "                 center_box=(-5, 5),\n",
    "                 random_state=5\n",
    "                )\n",
    "\n",
    "# 2種類のクラスタを色分けして表示\n",
    "plt.scatter(X_1[:, 0], X_1[:, 1], c='y', marker='o', s=50)\n",
    "plt.scatter(X_2[:, 0], X_2[:, 1], c='b', marker='x', s=50)\n",
    "plt.show()"
   ]
  },
  {
   "cell_type": "code",
   "execution_count": 46,
   "metadata": {
    "collapsed": false
   },
   "outputs": [
    {
     "data": {
      "image/png": "[encoded data removed]",
      "text/plain": [
       "<matplotlib.figure.Figure at 0x113dfcb70>"
      ]
     },
     "metadata": {},
     "output_type": "display_data"
    }
   ],
   "source": [
    "# 生成したクラスタのデータを統合\n",
    "X = np.vstack((X_1, X_2))\n",
    "X = np.vstack((X, X_3))\n",
    "\n",
    "# k-means法を実行\n",
    "from sklearn.cluster import KMeans\n",
    "km = KMeans(n_clusters=3,   # クラスタの個数を指定\n",
    "            init='k-means++',  # セントロイドの初期値の決め方を決定\n",
    "            n_init=10,      # 異なるセントロイドの初期値を用いた実行回数\n",
    "            max_iter=300,   # ひとつのセントロイドを用いたときの最大イテレーション回数\n",
    "            tol=1e-04,      # 収束と判定するための相対的な許容誤差\n",
    "            random_state=0, # セントロイドの初期化に用いる乱数生成器の状態\n",
    "           )\n",
    "\n",
    "# クラスラベルを予測\n",
    "y_km = km.fit_predict(X)\n",
    "\n",
    "# プロットを実行\n",
    "# 大きなクラスタのところに､小さなクラスタが食い込んでしまっているのがわかる\n",
    "kmeans_plot(3, km, X)"
   ]
  },
  {
   "cell_type": "code",
   "execution_count": 47,
   "metadata": {
    "collapsed": false,
    "scrolled": true
   },
   "outputs": [
    {
     "data": {
      "image/png": "[encoded data removed]",
      "text/plain": [
       "<matplotlib.figure.Figure at 0x11489b518>"
      ]
     },
     "metadata": {},
     "output_type": "display_data"
    }
   ],
   "source": [
    "SSE=[]\n",
    "for k in range(1,11):\n",
    "    km=KMeans(\n",
    "        n_clusters=k,\n",
    "        init='random',\n",
    "        n_init=10,\n",
    "        max_iter=300,\n",
    "        tol=1e-04,\n",
    "        random_state=0\n",
    "    )\n",
    "    km.fit(X_pca[:,0:2])\n",
    "    SSE.append(km.inertia_)\n",
    "plt.plot(range(1,11),SSE,marker='o')\n",
    "plt.xticks(range(1,11))\n",
    "plt.show()"
   ]
  },
  {
   "cell_type": "markdown",
   "metadata": {},
   "source": [
    "### シルエット係数による選択"
   ]
  },
  {
   "cell_type": "code",
   "execution_count": 26,
   "metadata": {
    "collapsed": true
   },
   "outputs": [],
   "source": [
    "from sklearn.cluster import KMeans\n",
    "km = KMeans(n_clusters=3,   # クラスタの個数を指定\n",
    "            init='random',  # セントロイドの初期値の決め方を決定\n",
    "            n_init=10,      # 異なるセントロイドの初期値を用いた実行回数\n",
    "            max_iter=300,   # ひとつのセントロイドを用いたときの最大イテレーション回数\n",
    "            tol=1e-04,      # 収束と判定するための相対的な許容誤差\n",
    "            random_state=0, # セントロイドの初期化に用いる乱数生成器の状態\n",
    "           )\n",
    "\n",
    "# クラスラベルを予測\n",
    "y_km = km.fit_predict(X_pca[:, 0:2])"
   ]
  },
  {
   "cell_type": "code",
   "execution_count": 27,
   "metadata": {
    "collapsed": true
   },
   "outputs": [],
   "source": [
    "from sklearn.metrics import silhouette_samples\n",
    "\n",
    "# 全サンプルのシルエット係数を計算\n",
    "# (X, y_km, 利用する距離の種類)\n",
    "# 'euclidiean' はユークリッド距離\n",
    "s = silhouette_samples(X_pca[:, 0:2], y_km, metric='euclidean')"
   ]
  },
  {
   "cell_type": "code",
   "execution_count": 28,
   "metadata": {
    "collapsed": false
   },
   "outputs": [
    {
     "data": {
      "text/plain": [
       "array([ 0.7437586 ,  0.58954614,  0.69409517,  0.64122155,  0.73369006,\n",
       "        0.61141915,  0.73511038,  0.74362968,  0.50135509,  0.65881326,\n",
       "        0.68571458,  0.74237058,  0.59842831,  0.56327201,  0.56628677,\n",
       "        0.4531917 ,  0.62528033,  0.73935287,  0.59722791,  0.68463541,\n",
       "        0.69664134,  0.70278381,  0.71659332,  0.65310985,  0.73907159,\n",
       "        0.56794047,  0.72282242,  0.735419  ,  0.73779078,  0.68998794,\n",
       "        0.64387074,  0.67403197,  0.59277666,  0.53806428,  0.65881326,\n",
       "        0.70266667,  0.70991422,  0.65881326,  0.57082221,  0.74027388,\n",
       "        0.74561258,  0.07387569,  0.66820107,  0.70668142,  0.66918434,\n",
       "        0.57672248,  0.68618886,  0.68751404,  0.69636903,  0.72662061,\n",
       "        0.46212585,  0.21972257,  0.48205205,  0.56842335,  0.18797752,\n",
       "        0.58705332,  0.29071226,  0.4273799 ,  0.07138504,  0.61145173,\n",
       "        0.43386335,  0.37349002,  0.55612643,  0.37048656,  0.5300063 ,\n",
       "        0.26246967,  0.45841515,  0.61241816,  0.45906888,  0.61730613,\n",
       "        0.10900922,  0.5350552 ,  0.43356197,  0.50707618,  0.29358085,\n",
       "        0.08030026,  0.06093282,  0.43397581,  0.41314614,  0.60564043,\n",
       "        0.59403512,  0.58734249,  0.61578107,  0.43777815,  0.50268433,\n",
       "        0.15927388,  0.3650558 ,  0.51458696,  0.47264321,  0.61799592,\n",
       "        0.62795121,  0.25622038,  0.62806671,  0.45361512,  0.62319861,\n",
       "        0.45872978,  0.53641247,  0.39923994,  0.46010598,  0.58986426,\n",
       "        0.62682497,  0.41507594,  0.5944806 ,  0.22433656,  0.54387247,\n",
       "        0.53549456,  0.59477736,  0.5602107 ,  0.02301233,  0.50049898,\n",
       "        0.53833295,  0.00083154,  0.58314569,  0.44751641,  0.07847957,\n",
       "        0.59222715,  0.44309166,  0.43052702,  0.36508046,  0.44460901,\n",
       "        0.62414954,  0.44971076,  0.47862723,  0.20957798,  0.60644629,\n",
       "        0.62018394,  0.20310478,  0.01109978,  0.27996232,  0.61105691,\n",
       "        0.50927936,  0.4239499 ,  0.30777848,  0.22873697,  0.42397951,\n",
       "        0.52998389,  0.58466791,  0.46817319,  0.08518424,  0.62425795,\n",
       "        0.61723868,  0.62664371,  0.41507594,  0.62546358,  0.61467697,\n",
       "        0.57395067,  0.26209185,  0.46664301,  0.54811396,  0.09858802])"
      ]
     },
     "execution_count": 28,
     "metadata": {},
     "output_type": "execute_result"
    }
   ],
   "source": [
    "s"
   ]
  },
  {
   "cell_type": "code",
   "execution_count": 30,
   "metadata": {
    "collapsed": false
   },
   "outputs": [
    {
     "data": {
      "text/plain": [
       "150"
      ]
     },
     "execution_count": 30,
     "metadata": {},
     "output_type": "execute_result"
    }
   ],
   "source": [
    "len(s) #サンプル数と同じ"
   ]
  },
  {
   "cell_type": "code",
   "execution_count": 31,
   "metadata": {
    "collapsed": false
   },
   "outputs": [
    {
     "data": {
      "image/png": "[encoded data removed]",
      "text/plain": [
       "<matplotlib.figure.Figure at 0x113911a20>"
      ]
     },
     "metadata": {},
     "output_type": "display_data"
    }
   ],
   "source": [
    "# シルエット図を出力\n",
    "from matplotlib import cm\n",
    "\n",
    "# シルエット図を出力する関数を定義\n",
    "def draw_silhouettes(X, y_km):\n",
    "    cluster_labels = np.unique(y_km)                     # クラスラベルを重複なく抽出\n",
    "    n_clusters = cluster_labels.shape[0]                 # クラスタの数を算出\n",
    "\n",
    "    # シルエット係数を計算\n",
    "    # (X, y_km, 距離の種類)\n",
    "    s = silhouette_samples(X, y_km, metric='euclidean')\n",
    "\n",
    "    # 各ラベルごとにシルエット図を描画\n",
    "    y_ax_lower, y_ax_upper= 0, 0                         # シルエット図の上端と下端の初期値を設定\n",
    "    yticks = []                                          # 縦軸のメモリ位置を格納するリストを生成\n",
    "    for i, label in enumerate(cluster_labels):\n",
    "            label_s = s[y_km==label]                     # 該当するクラスタについて､シルエット係数を算出\n",
    "            label_s.sort()                               # シルエット係数を小さい順に並べ替える\n",
    "            y_ax_upper += len(label_s)                   # シルエット図の上端を､サンプルの数だけ引き上げる\n",
    "            color = cm.jet(float(i) / n_clusters)        # color mapから色を取得\n",
    "            plt.barh(range(y_ax_lower, y_ax_upper),      # 横軸の範囲を指定\n",
    "                             label_s,                    # バーの幅を指定\n",
    "                             height=1.0,                 # バーの厚みを指\n",
    "                             color=color)                # バーの色を指定\n",
    "            yticks.append((y_ax_lower + y_ax_upper) / 2) # クラスタラベルの表示位置を追加\n",
    "            y_ax_lower += len(label_s)                   # シルエット図の下端を､サンプルの数だけ引き上げる\n",
    "\n",
    "            \n",
    "    plt.axvline(np.mean(s), color=\"red\", linestyle=\"--\") # 係数の平均値に破線を引く(横軸の値, 色, 線の形式)\n",
    "    plt.yticks(yticks, cluster_labels + 1)               # クラスタレベルを表示(位置, 縦軸の値)\n",
    "    plt.ylabel('Cluster')\n",
    "    plt.xlabel('silhouette coefficient')\n",
    "    plt.show()\n",
    "\n",
    "# シルエット図を出力\n",
    "draw_silhouettes(X_pca[:, 0:2], y_km)"
   ]
  },
  {
   "cell_type": "code",
   "execution_count": 37,
   "metadata": {
    "collapsed": true
   },
   "outputs": [],
   "source": [
    "#クラスタ数が適切でないと、クラスごとのサンプル数に偏りがあったり、マイナスの値が出現したりする。\n",
    "#それを確認\n",
    "from sklearn.cluster import KMeans\n",
    "km=KMeans(n_clusters=2,\n",
    "          init='random',\n",
    "          max_iter=300,\n",
    "          n_init=10,\n",
    "          tol=1e-04,\n",
    "          random_state=0\n",
    ")\n",
    "\n",
    "y_km=km.fit_predict(X_pca[:,0:2]) #fit_predictで予測クラスが出力"
   ]
  },
  {
   "cell_type": "code",
   "execution_count": 38,
   "metadata": {
    "collapsed": false
   },
   "outputs": [
    {
     "data": {
      "image/png": "[encoded data removed]",
      "text/plain": [
       "<matplotlib.figure.Figure at 0x1146a2710>"
      ]
     },
     "metadata": {},
     "output_type": "display_data"
    }
   ],
   "source": [
    "draw_silhouettes(X_pca[:,0:2],y_km)"
   ]
  },
  {
   "cell_type": "code",
   "execution_count": 43,
   "metadata": {
    "collapsed": false
   },
   "outputs": [],
   "source": [
    "#クラスタ数が適切でないと、クラスごとのサンプル数に偏りがあったり、マイナスの値が出現したりする。\n",
    "#それを確認\n",
    "from sklearn.cluster import KMeans\n",
    "km=KMeans(n_clusters=4,\n",
    "          init='k-means++',\n",
    "          max_iter=300,\n",
    "          n_init=10,\n",
    "          tol=1e-04,\n",
    "          random_state=0\n",
    ")\n",
    "\n",
    "y_km=km.fit_predict(X_pca[:,0:2]) #fit_predictで予測クラスが出力"
   ]
  },
  {
   "cell_type": "code",
   "execution_count": 44,
   "metadata": {
    "collapsed": false
   },
   "outputs": [
    {
     "data": {
      "image/png": "[encoded data removed]",
      "text/plain": [
       "<matplotlib.figure.Figure at 0x1138482b0>"
      ]
     },
     "metadata": {},
     "output_type": "display_data"
    }
   ],
   "source": [
    "draw_silhouettes(X_pca[:,0:2],y_km)"
   ]
  },
  {
   "cell_type": "code",
   "execution_count": null,
   "metadata": {
    "collapsed": true
   },
   "outputs": [],
   "source": []
  }
 ],
 "metadata": {
  "kernelspec": {
   "display_name": "py35",
   "language": "python",
   "name": "py35"
  },
  "language_info": {
   "codemirror_mode": {
    "name": "ipython",
    "version": 3
   },
   "file_extension": ".py",
   "mimetype": "text/x-python",
   "name": "python",
   "nbconvert_exporter": "python",
   "pygments_lexer": "ipython3",
   "version": "3.5.4"
  }
 },
 "nbformat": 4,
 "nbformat_minor": 0
}
