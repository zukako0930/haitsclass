{
 "cells": [
  {
   "cell_type": "markdown",
   "metadata": {},
   "source": [
    "# HAIT第二回 補足教材\n",
    "### テーマ：Numpy, Pandas練習"
   ]
  },
  {
   "cell_type": "markdown",
   "metadata": {},
   "source": [
    "# 1) Numpyの基本的なメソッドの補足  \n",
    " **目的**   \n",
    "Numpyの基本的なメソッドの復習、整理する  \n",
    "  \n",
    "  \n",
    "ここでは、Numpyの便利な機能について扱っていきます。小問を解く過程で復習していきましょう。"
   ]
  },
  {
   "cell_type": "code",
   "execution_count": 1,
   "metadata": {
    "collapsed": true
   },
   "outputs": [],
   "source": [
    "# 基本的なはモジュールのインポート\n",
    "import numpy as np\n",
    "import pandas as pd"
   ]
  },
  {
   "cell_type": "markdown",
   "metadata": {},
   "source": [
    "### Ex1-1.arange関数を使用して、10から44までのarrayを作ってください。"
   ]
  },
  {
   "cell_type": "code",
   "execution_count": 4,
   "metadata": {
    "collapsed": false
   },
   "outputs": [],
   "source": [
    "array=np.arange(10,45)"
   ]
  },
  {
   "cell_type": "markdown",
   "metadata": {},
   "source": [
    "### Ex1-2.上記のarrayの5番目の数字をインデックス指定して取り出してください。"
   ]
  },
  {
   "cell_type": "code",
   "execution_count": 5,
   "metadata": {
    "collapsed": false
   },
   "outputs": [
    {
     "data": {
      "text/plain": [
       "14"
      ]
     },
     "execution_count": 5,
     "metadata": {},
     "output_type": "execute_result"
    }
   ],
   "source": [
    "array[4]"
   ]
  },
  {
   "cell_type": "markdown",
   "metadata": {},
   "source": [
    "### Ex1-3.上記のarrayをデータフレームに変換してください。"
   ]
  },
  {
   "cell_type": "code",
   "execution_count": 6,
   "metadata": {
    "collapsed": true
   },
   "outputs": [],
   "source": [
    "df=pd.DataFrame(array)"
   ]
  },
  {
   "cell_type": "markdown",
   "metadata": {},
   "source": [
    "### Ex1-4.上記のarrayの平均を出して下さい。"
   ]
  },
  {
   "cell_type": "code",
   "execution_count": 7,
   "metadata": {
    "collapsed": false
   },
   "outputs": [
    {
     "data": {
      "text/plain": [
       "27.0"
      ]
     },
     "execution_count": 7,
     "metadata": {},
     "output_type": "execute_result"
    }
   ],
   "source": [
    "array.mean()"
   ]
  },
  {
   "cell_type": "markdown",
   "metadata": {},
   "source": [
    "### Ex1-5.上記のarrayを7行5列の2次元配列に変換してください。"
   ]
  },
  {
   "cell_type": "code",
   "execution_count": 10,
   "metadata": {
    "collapsed": false
   },
   "outputs": [
    {
     "data": {
      "text/plain": [
       "array([[10, 11, 12, 13, 14],\n",
       "       [15, 16, 17, 18, 19],\n",
       "       [20, 21, 22, 23, 24],\n",
       "       [25, 26, 27, 28, 29],\n",
       "       [30, 31, 32, 33, 34],\n",
       "       [35, 36, 37, 38, 39],\n",
       "       [40, 41, 42, 43, 44]])"
      ]
     },
     "execution_count": 10,
     "metadata": {},
     "output_type": "execute_result"
    }
   ],
   "source": [
    "array2d=array.reshape(7,5)\n",
    "array2d"
   ]
  },
  {
   "cell_type": "markdown",
   "metadata": {},
   "source": [
    "** **"
   ]
  },
  {
   "cell_type": "markdown",
   "metadata": {},
   "source": [
    "### (参考資料)\n",
    "以下では実際にデータを分析する際に有用な**1次元配列への変換、def文、for文、if文、hstack関数、vstack関数**を取り扱います。"
   ]
  },
  {
   "cell_type": "markdown",
   "metadata": {},
   "source": [
    "### Ex1-6.上記のndarrayを一次元配列に変換してください。"
   ]
  },
  {
   "cell_type": "code",
   "execution_count": 11,
   "metadata": {
    "collapsed": false
   },
   "outputs": [
    {
     "data": {
      "text/plain": [
       "array([10, 11, 12, 13, 14, 15, 16, 17, 18, 19, 20, 21, 22, 23, 24, 25, 26,\n",
       "       27, 28, 29, 30, 31, 32, 33, 34, 35, 36, 37, 38, 39, 40, 41, 42, 43,\n",
       "       44])"
      ]
     },
     "execution_count": 11,
     "metadata": {},
     "output_type": "execute_result"
    }
   ],
   "source": [
    "array2d.flatten()"
   ]
  },
  {
   "cell_type": "markdown",
   "metadata": {},
   "source": [
    "### Ex1-7.def文を使用して偶数の数を数える関数を定義してください"
   ]
  },
  {
   "cell_type": "code",
   "execution_count": 12,
   "metadata": {
    "collapsed": true
   },
   "outputs": [],
   "source": [
    "def count_even(array):\n",
    "    count=0\n",
    "    for num in array:\n",
    "        if num%2==0:\n",
    "            count+=1\n",
    "    return count"
   ]
  },
  {
   "cell_type": "code",
   "execution_count": 13,
   "metadata": {
    "collapsed": false
   },
   "outputs": [
    {
     "data": {
      "text/plain": [
       "18"
      ]
     },
     "execution_count": 13,
     "metadata": {},
     "output_type": "execute_result"
    }
   ],
   "source": [
    "count_even(array)"
   ]
  },
  {
   "cell_type": "markdown",
   "metadata": {},
   "source": [
    "### Ex1-8.下記のXとYをhstack関数とvstack関数を使用して結合してください。\n",
    "\n",
    "最後に、教材では触れられていないですが、実際にデータを分析するにあたって便利な**hstack関数**、**vstack関数**を紹介します。\n",
    "\n",
    "**hstack関数**は**Numpy配列同士を横方向に結合します。** **np.hstack((a, b))**の形で使用することが可能です。(horizontal)\n",
    "\n",
    "**vstack関数**は**Numpy配列同士を縦方向に結合します。**　**np.vstack((a, b))**の形で使用することが可能です。(vertical)"
   ]
  },
  {
   "cell_type": "code",
   "execution_count": 14,
   "metadata": {
    "collapsed": true
   },
   "outputs": [],
   "source": [
    "X = np.array([[1,2,3], [4,5,6], [7,8,9]])\n",
    "Y = np.array([[10,20,30], [40,50,60], [70,80,90]])"
   ]
  },
  {
   "cell_type": "code",
   "execution_count": 17,
   "metadata": {
    "collapsed": false
   },
   "outputs": [
    {
     "name": "stdout",
     "output_type": "stream",
     "text": [
      "[[ 1  2  3 10 20 30]\n",
      " [ 4  5  6 40 50 60]\n",
      " [ 7  8  9 70 80 90]]\n",
      "[[ 1  2  3]\n",
      " [ 4  5  6]\n",
      " [ 7  8  9]\n",
      " [10 20 30]\n",
      " [40 50 60]\n",
      " [70 80 90]]\n"
     ]
    }
   ],
   "source": [
    "print(np.hstack((X,Y)))\n",
    "print(np.vstack((X,Y)))"
   ]
  },
  {
   "cell_type": "markdown",
   "metadata": {},
   "source": [
    "hstackl関数、vstack関数の詳しい使い方については、以下のサイトを参照してください。\n",
    "### http://ailaby.com/vstack_hstack/\n",
    "\n",
    "Numpy同士の結合に関して"
   ]
  },
  {
   "cell_type": "markdown",
   "metadata": {},
   "source": [
    "___"
   ]
  },
  {
   "cell_type": "markdown",
   "metadata": {},
   "source": [
    "# 2) Pandasの練習\n",
    "\n",
    " **目的**  \n",
    "自分でDataFrameを作成し、DataFrameから求めるデータを自分自身で取り出すことができるようにする。"
   ]
  },
  {
   "cell_type": "code",
   "execution_count": 18,
   "metadata": {
    "collapsed": true
   },
   "outputs": [],
   "source": [
    "# まずはモジュールのインポート\n",
    "import pandas as pd\n",
    "import matplotlib as pb"
   ]
  },
  {
   "cell_type": "markdown",
   "metadata": {},
   "source": [
    "### Ex2.1.  以下の図と同じようなデータフレームを作成しましょう\n",
    "**教材復習**\n",
    "<font color=\"Red\">pandasのDataFrameは pd.DataFrame を使ってPythonのリストなどを値とするディクショナリから生成できます。</font>  \n",
    "  \n",
    "中身は**辞書形式**で指定すると良いでしょう\n",
    "<img src=\"https://s3-ap-northeast-1.amazonaws.com/ai-std/vol2-01.png\" width=60%>"
   ]
  },
  {
   "cell_type": "code",
   "execution_count": 66,
   "metadata": {
    "collapsed": false
   },
   "outputs": [],
   "source": [
    "data=pd.DataFrame(\n",
    "    {\n",
    "    'FIFA rank':np.array([65,63,31,21,3,6]),\n",
    "    'group':pd.Series(['A','A','A','A','B','B']),\n",
    "    'country':pd.Series(['Russia','Saudi Arabia','Ezipt','Uruguay','Portugal','Spain']),\n",
    "    'area':pd.Series(['Europe','Asia','Africa','South America','Europe','Europe'])\n",
    "    },\n",
    "    columns=['FIFA rank','group','country','area']\n",
    ")\n"
   ]
  },
  {
   "cell_type": "markdown",
   "metadata": {},
   "source": [
    "### Ex2.2.  上記のデータフレームをarrayに変換してみましょう。\n",
    "arrayへの変換には、**np.array(dataframe)**を用いると良いでしょう。"
   ]
  },
  {
   "cell_type": "code",
   "execution_count": 67,
   "metadata": {
    "collapsed": false
   },
   "outputs": [
    {
     "data": {
      "text/plain": [
       "array([[65, 'A', 'Russia', 'Europe'],\n",
       "       [63, 'A', 'Saudi Arabia', 'Asia'],\n",
       "       [31, 'A', 'Ezipt', 'Africa'],\n",
       "       [21, 'A', 'Uruguay', 'South America'],\n",
       "       [3, 'B', 'Portugal', 'Europe'],\n",
       "       [6, 'B', 'Spain', 'Europe']], dtype=object)"
      ]
     },
     "execution_count": 67,
     "metadata": {},
     "output_type": "execute_result"
    }
   ],
   "source": [
    "np.array(data)"
   ]
  },
  {
   "cell_type": "markdown",
   "metadata": {},
   "source": [
    "### Ex2.3. データフレームの特徴量名のみを抽出しましょう  \n",
    "df.columnsに特徴量名(カラム名)が収容されているので実際に見てみましょう"
   ]
  },
  {
   "cell_type": "code",
   "execution_count": 68,
   "metadata": {
    "collapsed": false
   },
   "outputs": [
    {
     "data": {
      "text/plain": [
       "Index(['FIFA rank', 'group', 'country', 'area'], dtype='object')"
      ]
     },
     "execution_count": 68,
     "metadata": {},
     "output_type": "execute_result"
    }
   ],
   "source": [
    "data.columns"
   ]
  },
  {
   "cell_type": "markdown",
   "metadata": {},
   "source": [
    "### Ex2.4. 上記のDataFrameが何行何列なのか確認してみましょう\n",
    "特徴量やデータの数が多くなると全体を概観するのは難しくなります。 \n",
    "**.shape**を使ってみましょう\n"
   ]
  },
  {
   "cell_type": "code",
   "execution_count": 69,
   "metadata": {
    "collapsed": false
   },
   "outputs": [
    {
     "data": {
      "text/plain": [
       "(6, 4)"
      ]
     },
     "execution_count": 69,
     "metadata": {},
     "output_type": "execute_result"
    }
   ],
   "source": [
    "data.shape"
   ]
  },
  {
   "cell_type": "markdown",
   "metadata": {},
   "source": [
    "### Ex2-5. 特徴量名についてすべて日本語となっているので英語に書き換えてみましょう。  \n",
    "FIFAランキング→Ranking  \n",
    "グループ→Group  \n",
    "国→Country  \n",
    "地域→Region"
   ]
  },
  {
   "cell_type": "code",
   "execution_count": 70,
   "metadata": {
    "collapsed": false
   },
   "outputs": [
    {
     "data": {
      "text/html": [
       "<div>\n",
       "<style>\n",
       "    .dataframe thead tr:only-child th {\n",
       "        text-align: right;\n",
       "    }\n",
       "\n",
       "    .dataframe thead th {\n",
       "        text-align: left;\n",
       "    }\n",
       "\n",
       "    .dataframe tbody tr th {\n",
       "        vertical-align: top;\n",
       "    }\n",
       "</style>\n",
       "<table border=\"1\" class=\"dataframe\">\n",
       "  <thead>\n",
       "    <tr style=\"text-align: right;\">\n",
       "      <th></th>\n",
       "      <th>Ranking</th>\n",
       "      <th>Group</th>\n",
       "      <th>Country</th>\n",
       "      <th>Region</th>\n",
       "    </tr>\n",
       "  </thead>\n",
       "  <tbody>\n",
       "    <tr>\n",
       "      <th>0</th>\n",
       "      <td>65</td>\n",
       "      <td>A</td>\n",
       "      <td>Russia</td>\n",
       "      <td>Europe</td>\n",
       "    </tr>\n",
       "    <tr>\n",
       "      <th>1</th>\n",
       "      <td>63</td>\n",
       "      <td>A</td>\n",
       "      <td>Saudi Arabia</td>\n",
       "      <td>Asia</td>\n",
       "    </tr>\n",
       "    <tr>\n",
       "      <th>2</th>\n",
       "      <td>31</td>\n",
       "      <td>A</td>\n",
       "      <td>Ezipt</td>\n",
       "      <td>Africa</td>\n",
       "    </tr>\n",
       "    <tr>\n",
       "      <th>3</th>\n",
       "      <td>21</td>\n",
       "      <td>A</td>\n",
       "      <td>Uruguay</td>\n",
       "      <td>South America</td>\n",
       "    </tr>\n",
       "    <tr>\n",
       "      <th>4</th>\n",
       "      <td>3</td>\n",
       "      <td>B</td>\n",
       "      <td>Portugal</td>\n",
       "      <td>Europe</td>\n",
       "    </tr>\n",
       "    <tr>\n",
       "      <th>5</th>\n",
       "      <td>6</td>\n",
       "      <td>B</td>\n",
       "      <td>Spain</td>\n",
       "      <td>Europe</td>\n",
       "    </tr>\n",
       "  </tbody>\n",
       "</table>\n",
       "</div>"
      ],
      "text/plain": [
       "   Ranking Group       Country         Region\n",
       "0       65     A        Russia         Europe\n",
       "1       63     A  Saudi Arabia           Asia\n",
       "2       31     A         Ezipt         Africa\n",
       "3       21     A       Uruguay  South America\n",
       "4        3     B      Portugal         Europe\n",
       "5        6     B         Spain         Europe"
      ]
     },
     "execution_count": 70,
     "metadata": {},
     "output_type": "execute_result"
    }
   ],
   "source": [
    "data=data.rename(columns={'FIFA rank':'Ranking','group':'Group','country':'Country','area':'Region'})\n",
    "data"
   ]
  },
  {
   "cell_type": "markdown",
   "metadata": {},
   "source": [
    "### Ex2-6. 列を書き換えましょう\n",
    "地域について数字で参照できるようにしましょう。  \n",
    "この過程はMachine Learningの「欠損値処理とエンコーディング」で学ぶ**マッピング**と同じですが、ここでは愚直に対応する番号をリストで指定しましょう。  \n",
    "ヨーロッパ：1  \n",
    "アジア：2  \n",
    "アフリカ：3    \n",
    "南アメリカ：4  \n",
    "とそれぞれ対応させましょう。"
   ]
  },
  {
   "cell_type": "code",
   "execution_count": 71,
   "metadata": {
    "collapsed": false
   },
   "outputs": [],
   "source": [
    "# Region_num=np.array([1,2,3,4,1,1])\n",
    "data=data.replace({'Europe':1,'Asia':2,'Africa':3,'South America':4})"
   ]
  },
  {
   "cell_type": "markdown",
   "metadata": {},
   "source": [
    "pandas.DataFrameの行名・列名の変更については下記のサイトを参考にしてください。\n",
    "### https://note.nkmk.me/python-pandas-dataframe-rename/  \n",
    "       pandas.DataFrameの行名・列名の変更"
   ]
  },
  {
   "cell_type": "markdown",
   "metadata": {},
   "source": [
    "---\n",
    "#### ここで、特定の列や行を取得するための手法を練習問題を通して学びましょう。\n",
    "\n",
    "下記のサイトは、DataFrameの行・列を取り出す方法が分かりやすく載っていますので参考にして以下の問題を解いてみましょう。  \n",
    "\n",
    "### http://akiyoko.hatenablog.jp/entry/2017/04/03/081630  \n",
    "      pandas.DataFrame の列の抽出（射影）および行の抽出（選択）方法まとめ\n",
    "### https://goo.gl/tFNvfu\n",
    "      Pandas でデータフレームから特定の行・列を取得する\n"
   ]
  },
  {
   "cell_type": "markdown",
   "metadata": {},
   "source": [
    "### Ex2-7. Countryについてのデータのみ取り出してください。  \n",
    "**データ名[参照したいカラム名や条件式]**で参照できます。  \n",
    "**[]内の条件をみたすようなデータ**が選択されます。"
   ]
  },
  {
   "cell_type": "code",
   "execution_count": 91,
   "metadata": {
    "collapsed": false
   },
   "outputs": [
    {
     "data": {
      "text/plain": [
       "0          Russia\n",
       "1    Saudi Arabia\n",
       "2           Ezipt\n",
       "3         Uruguay\n",
       "4        Portugal\n",
       "5           Spain\n",
       "Name: Country, dtype: object"
      ]
     },
     "execution_count": 91,
     "metadata": {},
     "output_type": "execute_result"
    }
   ],
   "source": [
    "data.loc[:,'Country']"
   ]
  },
  {
   "cell_type": "markdown",
   "metadata": {},
   "source": [
    "### Ex2-8. Regionが1となっているデータのみ取り出してください"
   ]
  },
  {
   "cell_type": "code",
   "execution_count": 77,
   "metadata": {
    "collapsed": false
   },
   "outputs": [
    {
     "data": {
      "text/html": [
       "<div>\n",
       "<style>\n",
       "    .dataframe thead tr:only-child th {\n",
       "        text-align: right;\n",
       "    }\n",
       "\n",
       "    .dataframe thead th {\n",
       "        text-align: left;\n",
       "    }\n",
       "\n",
       "    .dataframe tbody tr th {\n",
       "        vertical-align: top;\n",
       "    }\n",
       "</style>\n",
       "<table border=\"1\" class=\"dataframe\">\n",
       "  <thead>\n",
       "    <tr style=\"text-align: right;\">\n",
       "      <th></th>\n",
       "      <th>Ranking</th>\n",
       "      <th>Group</th>\n",
       "      <th>Country</th>\n",
       "      <th>Region</th>\n",
       "    </tr>\n",
       "  </thead>\n",
       "  <tbody>\n",
       "    <tr>\n",
       "      <th>0</th>\n",
       "      <td>65</td>\n",
       "      <td>A</td>\n",
       "      <td>Russia</td>\n",
       "      <td>1</td>\n",
       "    </tr>\n",
       "    <tr>\n",
       "      <th>4</th>\n",
       "      <td>3</td>\n",
       "      <td>B</td>\n",
       "      <td>Portugal</td>\n",
       "      <td>1</td>\n",
       "    </tr>\n",
       "    <tr>\n",
       "      <th>5</th>\n",
       "      <td>6</td>\n",
       "      <td>B</td>\n",
       "      <td>Spain</td>\n",
       "      <td>1</td>\n",
       "    </tr>\n",
       "  </tbody>\n",
       "</table>\n",
       "</div>"
      ],
      "text/plain": [
       "   Ranking Group   Country  Region\n",
       "0       65     A    Russia       1\n",
       "4        3     B  Portugal       1\n",
       "5        6     B     Spain       1"
      ]
     },
     "execution_count": 77,
     "metadata": {},
     "output_type": "execute_result"
    }
   ],
   "source": [
    "data[data.Region==1]"
   ]
  },
  {
   "cell_type": "markdown",
   "metadata": {},
   "source": [
    "### Ex2-9. GroupとRegionのデータを取り出してください。 \n",
    "**iloc[]**を用いれば行と列を指定してデータを取り出すことができます。  \n",
    "**loc[]**を用いればラベル名で指定できます。  \n",
    "**ix()** なら、ラベル名と数値のいずれでも利用することができます。  \n",
    "  \n",
    "**教材復習**  \n",
    "2.2 スライスでDataFrameを参照する　を見てみましょう"
   ]
  },
  {
   "cell_type": "code",
   "execution_count": 90,
   "metadata": {
    "collapsed": false
   },
   "outputs": [
    {
     "data": {
      "text/html": [
       "<div>\n",
       "<style>\n",
       "    .dataframe thead tr:only-child th {\n",
       "        text-align: right;\n",
       "    }\n",
       "\n",
       "    .dataframe thead th {\n",
       "        text-align: left;\n",
       "    }\n",
       "\n",
       "    .dataframe tbody tr th {\n",
       "        vertical-align: top;\n",
       "    }\n",
       "</style>\n",
       "<table border=\"1\" class=\"dataframe\">\n",
       "  <thead>\n",
       "    <tr style=\"text-align: right;\">\n",
       "      <th></th>\n",
       "      <th>Group</th>\n",
       "      <th>Region</th>\n",
       "    </tr>\n",
       "  </thead>\n",
       "  <tbody>\n",
       "    <tr>\n",
       "      <th>0</th>\n",
       "      <td>A</td>\n",
       "      <td>1</td>\n",
       "    </tr>\n",
       "    <tr>\n",
       "      <th>1</th>\n",
       "      <td>A</td>\n",
       "      <td>2</td>\n",
       "    </tr>\n",
       "    <tr>\n",
       "      <th>2</th>\n",
       "      <td>A</td>\n",
       "      <td>3</td>\n",
       "    </tr>\n",
       "    <tr>\n",
       "      <th>3</th>\n",
       "      <td>A</td>\n",
       "      <td>4</td>\n",
       "    </tr>\n",
       "    <tr>\n",
       "      <th>4</th>\n",
       "      <td>B</td>\n",
       "      <td>1</td>\n",
       "    </tr>\n",
       "    <tr>\n",
       "      <th>5</th>\n",
       "      <td>B</td>\n",
       "      <td>1</td>\n",
       "    </tr>\n",
       "  </tbody>\n",
       "</table>\n",
       "</div>"
      ],
      "text/plain": [
       "  Group  Region\n",
       "0     A       1\n",
       "1     A       2\n",
       "2     A       3\n",
       "3     A       4\n",
       "4     B       1\n",
       "5     B       1"
      ]
     },
     "execution_count": 90,
     "metadata": {},
     "output_type": "execute_result"
    }
   ],
   "source": [
    "data.loc[:,['Group','Region']] #列の指定の時は:,を忘れずに"
   ]
  },
  {
   "cell_type": "markdown",
   "metadata": {},
   "source": [
    "### Ex2-10.   **Ex2-7とEx2-9で取り出したデータをつなげましょう**  \n",
    "  \n",
    "Countryについて取り出したデータをdf1,GroupとRegionを取り出したデータをdf2とします。これらを結合するにはどうすればよいでしょうか。  \n",
    "結合については**pd.concat([,],axis=1)**を用いると良いでしょう。  \n",
    "**データ連結処理**については以下のサイトを参考にしてみてください\n",
    "### http://sinhrks.hatenablog.com/entry/2015/01/28/073327"
   ]
  },
  {
   "cell_type": "code",
   "execution_count": 93,
   "metadata": {
    "collapsed": false
   },
   "outputs": [
    {
     "data": {
      "text/html": [
       "<div>\n",
       "<style>\n",
       "    .dataframe thead tr:only-child th {\n",
       "        text-align: right;\n",
       "    }\n",
       "\n",
       "    .dataframe thead th {\n",
       "        text-align: left;\n",
       "    }\n",
       "\n",
       "    .dataframe tbody tr th {\n",
       "        vertical-align: top;\n",
       "    }\n",
       "</style>\n",
       "<table border=\"1\" class=\"dataframe\">\n",
       "  <thead>\n",
       "    <tr style=\"text-align: right;\">\n",
       "      <th></th>\n",
       "      <th>Country</th>\n",
       "      <th>Group</th>\n",
       "      <th>Region</th>\n",
       "    </tr>\n",
       "  </thead>\n",
       "  <tbody>\n",
       "    <tr>\n",
       "      <th>0</th>\n",
       "      <td>Russia</td>\n",
       "      <td>A</td>\n",
       "      <td>1</td>\n",
       "    </tr>\n",
       "    <tr>\n",
       "      <th>1</th>\n",
       "      <td>Saudi Arabia</td>\n",
       "      <td>A</td>\n",
       "      <td>2</td>\n",
       "    </tr>\n",
       "    <tr>\n",
       "      <th>2</th>\n",
       "      <td>Ezipt</td>\n",
       "      <td>A</td>\n",
       "      <td>3</td>\n",
       "    </tr>\n",
       "    <tr>\n",
       "      <th>3</th>\n",
       "      <td>Uruguay</td>\n",
       "      <td>A</td>\n",
       "      <td>4</td>\n",
       "    </tr>\n",
       "    <tr>\n",
       "      <th>4</th>\n",
       "      <td>Portugal</td>\n",
       "      <td>B</td>\n",
       "      <td>1</td>\n",
       "    </tr>\n",
       "    <tr>\n",
       "      <th>5</th>\n",
       "      <td>Spain</td>\n",
       "      <td>B</td>\n",
       "      <td>1</td>\n",
       "    </tr>\n",
       "  </tbody>\n",
       "</table>\n",
       "</div>"
      ],
      "text/plain": [
       "        Country Group  Region\n",
       "0        Russia     A       1\n",
       "1  Saudi Arabia     A       2\n",
       "2         Ezipt     A       3\n",
       "3       Uruguay     A       4\n",
       "4      Portugal     B       1\n",
       "5         Spain     B       1"
      ]
     },
     "execution_count": 93,
     "metadata": {},
     "output_type": "execute_result"
    }
   ],
   "source": [
    "df1=data['Country']\n",
    "df2=data.iloc[:, [1,3]]\n",
    "\n",
    "pd.concat([df1,df2],axis=1)\n",
    "\n"
   ]
  },
  {
   "cell_type": "markdown",
   "metadata": {},
   "source": [
    "** **"
   ]
  },
  {
   "cell_type": "markdown",
   "metadata": {},
   "source": [
    "### (参考資料)\n",
    "以下では教材では触れられていないものの、実際にデータを分析する際に便利な関数を学んでいきます。  \n",
    "各自家で目を通してみてください。\n",
    "\n",
    "ここで扱うのは、**sort関数、groupby関数、merge関数**の３つです。"
   ]
  },
  {
   "cell_type": "markdown",
   "metadata": {},
   "source": [
    "### Ex2-11. Regionを軸にデータフレームを値の大きい順に並び替えてみましょう。\n",
    "\n",
    "データの並び替えには、**sort関数**を用いると良いでしょう。\n",
    "\n",
    "**sort関数**は、特定の特徴量に注目して並び替えることが可能です。\n",
    "\n",
    "昇順の場合は**.sort_values(by='特定の特徴量')**、降順の場合は**.sort_values(by='特定の特徴量', ascending=False)**の形で使用できます。"
   ]
  },
  {
   "cell_type": "code",
   "execution_count": 97,
   "metadata": {
    "collapsed": false
   },
   "outputs": [
    {
     "ename": "NameError",
     "evalue": "name 'Ranking' is not defined",
     "output_type": "error",
     "traceback": [
      "\u001b[0;31m---------------------------------------------------------------------------\u001b[0m",
      "\u001b[0;31mNameError\u001b[0m                                 Traceback (most recent call last)",
      "\u001b[0;32m<ipython-input-97-a5234eeae8d0>\u001b[0m in \u001b[0;36m<module>\u001b[0;34m()\u001b[0m\n\u001b[0;32m----> 1\u001b[0;31m \u001b[0mdata\u001b[0m\u001b[0;34m.\u001b[0m\u001b[0msort_values\u001b[0m\u001b[0;34m(\u001b[0m\u001b[0mby\u001b[0m\u001b[0;34m=\u001b[0m\u001b[0mRanking\u001b[0m\u001b[0;34m)\u001b[0m\u001b[0;34m\u001b[0m\u001b[0m\n\u001b[0m",
      "\u001b[0;31mNameError\u001b[0m: name 'Ranking' is not defined"
     ]
    }
   ],
   "source": [
    "data.sort_values(by='Ranking') #''必須"
   ]
  },
  {
   "cell_type": "markdown",
   "metadata": {},
   "source": [
    "\n",
    "データフレームのソートについては以下のサイトを参考にしてみてください。\n",
    "##### https://pythondatascience.plavox.info/pandas/%E3%83%87%E3%83%BC%E3%82%BF%E3%83%95%E3%83%AC%E3%83%BC%E3%83%A0%E3%82%92%E3%82%BD%E3%83%BC%E3%83%88%E3%81%99%E3%82%8B"
   ]
  },
  {
   "cell_type": "markdown",
   "metadata": {},
   "source": [
    "### Ex.2-12. 以下のデータフレームにおける地域ごとのランキング平均を求めてください。\n",
    "\n",
    "特定の変数を軸にデータを集計する際には、**groupby関数**が便利です。\n",
    "\n",
    "**.groupby(\"特定の変数\")**の形で使用することができます。ただし、groupbyはあくまで指定された変数ごとにまとめる機能なので、その後にmeanやmin, max, sumなどの別の関数を働かせる必要があります。\n",
    "\n",
    "例) Aという変数のまとまりのなかでのBの最小値を取り出したい時　⇨　dataframe.groupby(\"A\")[\"B\"].min()"
   ]
  },
  {
   "cell_type": "code",
   "execution_count": 100,
   "metadata": {
    "collapsed": false
   },
   "outputs": [
    {
     "data": {
      "text/plain": [
       "Region\n",
       "1    24.666667\n",
       "2    63.000000\n",
       "3    31.000000\n",
       "4    21.000000\n",
       "Name: Ranking, dtype: float64"
      ]
     },
     "execution_count": 100,
     "metadata": {},
     "output_type": "execute_result"
    }
   ],
   "source": [
    "data.groupby('Region')['Ranking'].mean() "
   ]
  },
  {
   "cell_type": "markdown",
   "metadata": {},
   "source": [
    "\n",
    "groupby関数の詳細な使い方については以下のサイトを参照してください。\n",
    "### http://ailaby.com/groupby_easy/"
   ]
  },
  {
   "cell_type": "markdown",
   "metadata": {},
   "source": [
    "### Ex.2-13.これまでに作成されたdataに次に提示するdata2を繋げてdata2の国のデータのみを取り出してください。\n",
    "\n",
    "一部の要素が共通しているデータフレーム同士を結合する際には、**merge関数**が非常に有用です。\n",
    "**merge関数**は、データフレーム同士の内部結合や外部結合を行うことができます。\n",
    "**pd.merge(dataframe1, dataframe2, on 起点となる変数)**の形で使用できます。ここでは、**内部結合**のみ扱います。"
   ]
  },
  {
   "cell_type": "code",
   "execution_count": 101,
   "metadata": {
    "collapsed": false,
    "scrolled": true
   },
   "outputs": [
    {
     "data": {
      "text/html": [
       "<div>\n",
       "<style>\n",
       "    .dataframe thead tr:only-child th {\n",
       "        text-align: right;\n",
       "    }\n",
       "\n",
       "    .dataframe thead th {\n",
       "        text-align: left;\n",
       "    }\n",
       "\n",
       "    .dataframe tbody tr th {\n",
       "        vertical-align: top;\n",
       "    }\n",
       "</style>\n",
       "<table border=\"1\" class=\"dataframe\">\n",
       "  <thead>\n",
       "    <tr style=\"text-align: right;\">\n",
       "      <th></th>\n",
       "      <th>Ranking</th>\n",
       "      <th>Group</th>\n",
       "      <th>Country</th>\n",
       "      <th>Region</th>\n",
       "    </tr>\n",
       "  </thead>\n",
       "  <tbody>\n",
       "    <tr>\n",
       "      <th>0</th>\n",
       "      <td>65</td>\n",
       "      <td>A</td>\n",
       "      <td>Russia</td>\n",
       "      <td>1</td>\n",
       "    </tr>\n",
       "    <tr>\n",
       "      <th>1</th>\n",
       "      <td>63</td>\n",
       "      <td>A</td>\n",
       "      <td>Saudi Arabia</td>\n",
       "      <td>2</td>\n",
       "    </tr>\n",
       "    <tr>\n",
       "      <th>2</th>\n",
       "      <td>31</td>\n",
       "      <td>A</td>\n",
       "      <td>Ezipt</td>\n",
       "      <td>3</td>\n",
       "    </tr>\n",
       "    <tr>\n",
       "      <th>3</th>\n",
       "      <td>21</td>\n",
       "      <td>A</td>\n",
       "      <td>Uruguay</td>\n",
       "      <td>4</td>\n",
       "    </tr>\n",
       "    <tr>\n",
       "      <th>4</th>\n",
       "      <td>3</td>\n",
       "      <td>B</td>\n",
       "      <td>Portugal</td>\n",
       "      <td>1</td>\n",
       "    </tr>\n",
       "    <tr>\n",
       "      <th>5</th>\n",
       "      <td>6</td>\n",
       "      <td>B</td>\n",
       "      <td>Spain</td>\n",
       "      <td>1</td>\n",
       "    </tr>\n",
       "  </tbody>\n",
       "</table>\n",
       "</div>"
      ],
      "text/plain": [
       "   Ranking Group       Country  Region\n",
       "0       65     A        Russia       1\n",
       "1       63     A  Saudi Arabia       2\n",
       "2       31     A         Ezipt       3\n",
       "3       21     A       Uruguay       4\n",
       "4        3     B      Portugal       1\n",
       "5        6     B         Spain       1"
      ]
     },
     "execution_count": 101,
     "metadata": {},
     "output_type": "execute_result"
    }
   ],
   "source": [
    "data"
   ]
  },
  {
   "cell_type": "code",
   "execution_count": 102,
   "metadata": {
    "collapsed": false,
    "scrolled": true
   },
   "outputs": [
    {
     "data": {
      "text/html": [
       "<div>\n",
       "<style>\n",
       "    .dataframe thead tr:only-child th {\n",
       "        text-align: right;\n",
       "    }\n",
       "\n",
       "    .dataframe thead th {\n",
       "        text-align: left;\n",
       "    }\n",
       "\n",
       "    .dataframe tbody tr th {\n",
       "        vertical-align: top;\n",
       "    }\n",
       "</style>\n",
       "<table border=\"1\" class=\"dataframe\">\n",
       "  <thead>\n",
       "    <tr style=\"text-align: right;\">\n",
       "      <th></th>\n",
       "      <th>Country</th>\n",
       "      <th>Height(cm)</th>\n",
       "      <th>Population(億)</th>\n",
       "    </tr>\n",
       "  </thead>\n",
       "  <tbody>\n",
       "    <tr>\n",
       "      <th>0</th>\n",
       "      <td>Russia</td>\n",
       "      <td>184.3</td>\n",
       "      <td>1.4430</td>\n",
       "    </tr>\n",
       "    <tr>\n",
       "      <th>1</th>\n",
       "      <td>Saudi Arabia</td>\n",
       "      <td>176.2</td>\n",
       "      <td>0.3228</td>\n",
       "    </tr>\n",
       "    <tr>\n",
       "      <th>2</th>\n",
       "      <td>Uruguay</td>\n",
       "      <td>170.0</td>\n",
       "      <td>0.0344</td>\n",
       "    </tr>\n",
       "    <tr>\n",
       "      <th>3</th>\n",
       "      <td>Spain</td>\n",
       "      <td>173.1</td>\n",
       "      <td>0.4656</td>\n",
       "    </tr>\n",
       "  </tbody>\n",
       "</table>\n",
       "</div>"
      ],
      "text/plain": [
       "        Country  Height(cm)  Population(億)\n",
       "0        Russia       184.3         1.4430\n",
       "1  Saudi Arabia       176.2         0.3228\n",
       "2       Uruguay       170.0         0.0344\n",
       "3         Spain       173.1         0.4656"
      ]
     },
     "execution_count": 102,
     "metadata": {},
     "output_type": "execute_result"
    }
   ],
   "source": [
    "data2= pd.DataFrame({\"Country\":[\"Russia\", \"Saudi Arabia\", \"Uruguay\", \"Spain\"],\n",
    "                    \"Population(億)\": [1.443, 0.3228, 0.0344, 0.4656],\n",
    "                    \"Height(cm)\":[184.3, 176.2,170.0,173.1]\n",
    "                   })\n",
    "data2"
   ]
  },
  {
   "cell_type": "code",
   "execution_count": 103,
   "metadata": {
    "collapsed": false
   },
   "outputs": [
    {
     "data": {
      "text/html": [
       "<div>\n",
       "<style>\n",
       "    .dataframe thead tr:only-child th {\n",
       "        text-align: right;\n",
       "    }\n",
       "\n",
       "    .dataframe thead th {\n",
       "        text-align: left;\n",
       "    }\n",
       "\n",
       "    .dataframe tbody tr th {\n",
       "        vertical-align: top;\n",
       "    }\n",
       "</style>\n",
       "<table border=\"1\" class=\"dataframe\">\n",
       "  <thead>\n",
       "    <tr style=\"text-align: right;\">\n",
       "      <th></th>\n",
       "      <th>Ranking</th>\n",
       "      <th>Group</th>\n",
       "      <th>Country</th>\n",
       "      <th>Region</th>\n",
       "      <th>Height(cm)</th>\n",
       "      <th>Population(億)</th>\n",
       "    </tr>\n",
       "  </thead>\n",
       "  <tbody>\n",
       "    <tr>\n",
       "      <th>0</th>\n",
       "      <td>65</td>\n",
       "      <td>A</td>\n",
       "      <td>Russia</td>\n",
       "      <td>1</td>\n",
       "      <td>184.3</td>\n",
       "      <td>1.4430</td>\n",
       "    </tr>\n",
       "    <tr>\n",
       "      <th>1</th>\n",
       "      <td>63</td>\n",
       "      <td>A</td>\n",
       "      <td>Saudi Arabia</td>\n",
       "      <td>2</td>\n",
       "      <td>176.2</td>\n",
       "      <td>0.3228</td>\n",
       "    </tr>\n",
       "    <tr>\n",
       "      <th>2</th>\n",
       "      <td>21</td>\n",
       "      <td>A</td>\n",
       "      <td>Uruguay</td>\n",
       "      <td>4</td>\n",
       "      <td>170.0</td>\n",
       "      <td>0.0344</td>\n",
       "    </tr>\n",
       "    <tr>\n",
       "      <th>3</th>\n",
       "      <td>6</td>\n",
       "      <td>B</td>\n",
       "      <td>Spain</td>\n",
       "      <td>1</td>\n",
       "      <td>173.1</td>\n",
       "      <td>0.4656</td>\n",
       "    </tr>\n",
       "  </tbody>\n",
       "</table>\n",
       "</div>"
      ],
      "text/plain": [
       "   Ranking Group       Country  Region  Height(cm)  Population(億)\n",
       "0       65     A        Russia       1       184.3         1.4430\n",
       "1       63     A  Saudi Arabia       2       176.2         0.3228\n",
       "2       21     A       Uruguay       4       170.0         0.0344\n",
       "3        6     B         Spain       1       173.1         0.4656"
      ]
     },
     "execution_count": 103,
     "metadata": {},
     "output_type": "execute_result"
    }
   ],
   "source": [
    "pd.merge(data,data2) #内部結合なのでポルトガルのデータは消える"
   ]
  },
  {
   "cell_type": "markdown",
   "metadata": {},
   "source": [
    "\n",
    "merge関数の詳細な使い方については以下のサイトを参照してください。\n",
    "### http://sinhrks.hatenablog.com/entry/2015/01/28/073327"
   ]
  },
  {
   "cell_type": "markdown",
   "metadata": {},
   "source": [
    "** **"
   ]
  },
  {
   "cell_type": "markdown",
   "metadata": {},
   "source": [
    "＊内部結合  \n",
    "    異なるデータフレームを結合させて、結合可能なデータのみを取り出すこと。\n",
    "\n",
    "＊外部結合  \n",
    "    一方のデータを残して、もう一方のデータを可能な範囲で結合させて取り出すこと。  \n",
    "                        左外部結合、右外部結合、完全外部結合の3種類がある。\n",
    "\n",
    "\n",
    "ちょっと分かりにくいと思うので、こちらのサイトも参照してください。\n",
    "http://wa3.i-3-i.info/word1263.html"
   ]
  },
  {
   "cell_type": "markdown",
   "metadata": {},
   "source": [
    "### お疲れ様でした"
   ]
  }
 ],
 "metadata": {
  "kernelspec": {
   "display_name": "py35",
   "language": "python",
   "name": "py35"
  },
  "language_info": {
   "codemirror_mode": {
    "name": "ipython",
    "version": 3
   },
   "file_extension": ".py",
   "mimetype": "text/x-python",
   "name": "python",
   "nbconvert_exporter": "python",
   "pygments_lexer": "ipython3",
   "version": "3.5.4"
  }
 },
 "nbformat": 4,
 "nbformat_minor": 2
}
