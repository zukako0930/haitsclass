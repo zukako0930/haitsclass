{
 "cells": [
  {
   "cell_type": "markdown",
   "metadata": {},
   "source": [
    "DataAugumentationを行う際は、testデータとtrainデータに分けてから行う。<br>\n",
    "DataAugumentaionを先に行ってしまうと、似た画像がtestデータに存在することになり**leakage**が生じる。"
   ]
  },
  {
   "cell_type": "markdown",
   "metadata": {},
   "source": [
    "### fine-tuning\n",
    "学習済みのネットワークを利用して、追加で学習を行う。\n",
    "- なぜうまくいくのか。\n",
    "どんな分類タスクでも、畳み込み層(浅い層)で検出する特徴は共通。\n",
    "- 学習の工夫\n",
    "学習率を通常の100分の1ほどにしておく\n",
    "- 学習の仕方\n",
    "**全結合層のみ**乱数で初期化してそれ以外は学習済みを使う。重みは固定する。<br>\n",
    "判別するクラス数がタスクによって違うためこれは必須。<br>\n",
    "一部の重みを固定して必要なデータ数を削減することもできる。\n"
   ]
  },
  {
   "cell_type": "code",
   "execution_count": 2,
   "metadata": {},
   "outputs": [
    {
     "name": "stderr",
     "output_type": "stream",
     "text": [
      "/home/inouelab/.conda/envs/zukapy35/lib/python3.5/site-packages/h5py/__init__.py:36: FutureWarning: Conversion of the second argument of issubdtype from `float` to `np.floating` is deprecated. In future, it will be treated as `np.float64 == np.dtype(float).type`.\n",
      "  from ._conv import register_converters as _register_converters\n"
     ]
    }
   ],
   "source": [
    "# 必要なライブラリの読み込み\n",
    "import pickle\n",
    "%matplotlib inline\n",
    "import matplotlib.pyplot as plt\n",
    "import pandas as pd\n",
    "import numpy as np\n",
    "import cv2\n",
    "\n",
    "import chainer\n",
    "import chainer.functions as F\n",
    "import chainer.links as L\n",
    "from chainer import optimizers\n",
    "from chainer.datasets import tuple_dataset, TransformDataset\n",
    "from chainer.training import extensions\n",
    "from chainer import optimizers, serializers, training, iterators"
   ]
  },
  {
   "cell_type": "code",
   "execution_count": 3,
   "metadata": {
    "collapsed": true
   },
   "outputs": [],
   "source": [
    "# pickle形式のファイルを読み込む関数\n",
    "def unpickle(file):\n",
    "    import pickle\n",
    "    with open(file, 'rb') as fo:\n",
    "        list = pickle.load(fo, encoding='bytes')\n",
    "    return list"
   ]
  },
  {
   "cell_type": "code",
   "execution_count": 4,
   "metadata": {
    "collapsed": true
   },
   "outputs": [],
   "source": [
    "# ダウンロードしたファイルはpickle形式で保存されているため、扱いやすいように読み込む\n",
    "train = unpickle('train.pickle')\n",
    "test = unpickle('test.pickle')\n",
    "label = unpickle('label.pickle')"
   ]
  },
  {
   "cell_type": "code",
   "execution_count": 5,
   "metadata": {
    "collapsed": true
   },
   "outputs": [],
   "source": [
    "# 訓練用データ(2500件)\n",
    "# テスト用データ(500件)\n",
    "N_train = len(train)\n",
    "N_test = len(test)\n",
    "X_train = train['data']\n",
    "X_test = test['data']\n",
    "y_train = train['label']\n",
    "y_test = test['label']"
   ]
  },
  {
   "cell_type": "code",
   "execution_count": 10,
   "metadata": {},
   "outputs": [],
   "source": [
    "class PretrainedVGG16(chainer.Chain):\n",
    "    def __init__(self,n_class, lossfunction = F.softmax_cross_entropy, accfunction = F.accuracy):\n",
    "        super(PretrainedVGG16,self).__init__()\n",
    "        with self.init_scope():\n",
    "            self.base = L.VGG16Layers() #基本はVGG16のネットワークを利用する。このfc7の出力を新たに定義したfc8の入力とする。\n",
    "            self.new_fc8 = L.Linear(None,n_class)\n",
    "            self.lossfun = lossfunction # 誤差関数を定義\n",
    "            self.accfun = accfunction\n",
    "            \n",
    "    def __call__(self,x,t): #入力データと教師データ\n",
    "        # 学習をしないとき､勾配の情報を保持しないようにしてメモリを節約\n",
    "        with chainer.using_config('enable_backprop', False):\n",
    "                x = np.asarray(x, dtype=np.float32)\n",
    "        h = F.relu(self.new_fc8(self.base(x, layers=['fc7'])['fc7']))\n",
    "        y = self.new_fc8(h)\n",
    "        return self.lossfun(y,t) # 誤差関数を返す。CNNの章ではここを全結合層の出力にして性能評価を外で行なっていた。"
   ]
  },
  {
   "cell_type": "code",
   "execution_count": null,
   "metadata": {},
   "outputs": [
    {
     "name": "stderr",
     "output_type": "stream",
     "text": [
      "Downloading from http://www.robots.ox.ac.uk/%7Evgg/software/very_deep/caffe/VGG_ILSVRC_16_layers.caffemodel...\n"
     ]
    }
   ],
   "source": [
    "model = PretrainedVGG16(n_class=5)"
   ]
  },
  {
   "cell_type": "code",
   "execution_count": null,
   "metadata": {
    "collapsed": true
   },
   "outputs": [],
   "source": [
    "model.base.disable_update()"
   ]
  },
  {
   "cell_type": "code",
   "execution_count": null,
   "metadata": {
    "collapsed": true
   },
   "outputs": [],
   "source": [
    "optimizer = chainer.optimizers.Adam()\n",
    "optimizer.setup(model)\n",
    "batchsize = 100\n",
    "n_epoch = 1 # 簡単に動作確認をするため､epochを1に設定"
   ]
  }
 ],
 "metadata": {
  "kernelspec": {
   "display_name": "zukapy35",
   "language": "python",
   "name": "zukapy35"
  },
  "language_info": {
   "codemirror_mode": {
    "name": "ipython",
    "version": 3
   },
   "file_extension": ".py",
   "mimetype": "text/x-python",
   "name": "python",
   "nbconvert_exporter": "python",
   "pygments_lexer": "ipython3",
   "version": "3.5.4"
  }
 },
 "nbformat": 4,
 "nbformat_minor": 2
}
