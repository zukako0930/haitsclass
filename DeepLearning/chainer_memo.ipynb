{
 "cells": [
  {
   "cell_type": "code",
   "execution_count": null,
   "metadata": {
    "collapsed": true
   },
   "outputs": [],
   "source": [
    "class MLP(chainer.Chain):\n",
    "    def __init__(self):\n",
    "        super(MLP, self).__init__()\n",
    "#         super(MLP,self) = chainer.Chainクラス\n",
    "#         chainer.Chainクラスを継承したインスタンスを生成\n",
    "#         ここのinitはchainer側で定義しているchainer.Chainの__init__を実行している\n",
    "# 　　　　　　　引数を与えて初期化する場合はsuper.(MLP,self).__init__(name)とかにする\n",
    "#        上のinitの引数に以下を記述して初期化することもできるが、以下のようにwith self.init_scope()を使って書くのがchainer2系\n",
    "#        意味的にはsuper(MLP,self).__init__( l1=...,l2=...,l3=...)と同じ。\n",
    "        with self.init_scope():\n",
    "            self.l1=L.Linear(784, 900)  # 第1層からの入力784､第2層への出力900\n",
    "            self.l2=L.Linear(900, 1000) # 第2層からの入力600､第3層への出力1000\n",
    "            self.l3=L.Linear(1000, 500) # 第3層からの入力1000､第4層への出力500\n",
    "            self.l4=L.Linear(500, 10)   # 第4層からの入力500､出力層への出力10\n",
    "        \n",
    "    \n",
    "    def __call__(self, X):\n",
    "        h1 = F.relu(self.l1(X))  # 1つめの隠れ層からの出力を計算\n",
    "        h2 = F.relu(self.l2(h1)) # 2つめの隠れ層からの出力を計算\n",
    "        h3 = F.relu(self.l3(h2)) # 3つめの隠れ層からの出力を計算\n",
    "        return self.l4(h3)       # 出力層への入力を返す"
   ]
  }
 ],
 "metadata": {
  "kernelspec": {
   "display_name": "chainer2_py35",
   "language": "python",
   "name": "chainer2_py35"
  },
  "language_info": {
   "codemirror_mode": {
    "name": "ipython",
    "version": 3
   },
   "file_extension": ".py",
   "mimetype": "text/x-python",
   "name": "python",
   "nbconvert_exporter": "python",
   "pygments_lexer": "ipython3",
   "version": "3.5.4"
  }
 },
 "nbformat": 4,
 "nbformat_minor": 0
}
