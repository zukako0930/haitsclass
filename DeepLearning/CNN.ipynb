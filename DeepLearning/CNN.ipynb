{
 "cells": [
  {
   "cell_type": "markdown",
   "metadata": {},
   "source": [
    "脳の視覚情報処理を行うニューロンが特定の領域のみから信号を受け取るように､畳み込み演算では画像から一部の領域だけを切り取って演算を行います｡具体的には､下図のように検出したいパターンを表したカーネル(｢フィルタ｣とも呼ばれます)と画像中の各領域とで対応する位置のピクセル値同士の積を計算し､できた行列の各成分の和をとることによって､各領域にフィルタが表す特徴がどれだけマッチするかが定量化されます｡"
   ]
  },
  {
   "cell_type": "markdown",
   "metadata": {},
   "source": [
    "**カーネル**にマッチする特徴があるかどうかで識別する。<br>\n",
    "カーネルは**局所な特徴**を検出するので、これが単純なパターンを見つけるニューロンの役割を果たす。<br>\n",
    "この単純なパターンを階層的にすることで、**検出したシンプルな特徴量の組み合わせ**で、猫は猫らしく、人は人らしい特徴が抽出できる。"
   ]
  },
  {
   "cell_type": "markdown",
   "metadata": {},
   "source": [
    "このフィルタの**重み(どのような特徴があるか)**を学習によって取得する。"
   ]
  },
  {
   "cell_type": "markdown",
   "metadata": {},
   "source": [
    "一つのフィルタで一つの特徴マップができる。例えば縦線検出フィルタならそれに対応したマップが一つ。<br>\n",
    "横線を検出するためのフィルタも使いたい。ということは特徴マップがもう一つできることになる。\n",
    "<br>\n",
    "カラー画像(3ch)の場合は、フィルタも**3枚で一組**になり、**３枚組のフィルタ一つ**で**特徴マップが一つ**できる。"
   ]
  },
  {
   "cell_type": "markdown",
   "metadata": {},
   "source": [
    "padding=1にすると、畳み込みの出力が小さくならなくて済む。<br>\n",
    "max_pooling:数ピクセルのズレや歪みを吸収する。"
   ]
  },
  {
   "cell_type": "code",
   "execution_count": null,
   "metadata": {
    "collapsed": true
   },
   "outputs": [],
   "source": []
  }
 ],
 "metadata": {
  "kernelspec": {
   "display_name": "chainer2_py35",
   "language": "python",
   "name": "chainer2_py35"
  },
  "language_info": {
   "codemirror_mode": {
    "name": "ipython",
    "version": 3
   },
   "file_extension": ".py",
   "mimetype": "text/x-python",
   "name": "python",
   "nbconvert_exporter": "python",
   "pygments_lexer": "ipython3",
   "version": "3.5.4"
  }
 },
 "nbformat": 4,
 "nbformat_minor": 0
}
